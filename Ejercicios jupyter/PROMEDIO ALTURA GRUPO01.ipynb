{
 "cells": [
  {
   "cell_type": "markdown",
   "metadata": {},
   "source": [
    "### AREA DEFINICION DE VARIABLES"
   ]
  },
  {
   "cell_type": "code",
   "execution_count": 1,
   "metadata": {},
   "outputs": [],
   "source": [
    "leerAltura=0\n",
    "leerNombre=\"\"\n",
    "leerGenero=\"\"\n",
    "cantPer=4\n",
    "contCic=0\n",
    "acuSumAltMas=0\n",
    "acuSumAltFem=0\n",
    "mayAltMas=0\n",
    "mayAltFem=0\n",
    "menAltMas=3\n",
    "menAltFem=3\n",
    "mayAltGen=0\n",
    "menAltGen=3\n",
    "nomMayAltMas=\"\"\n",
    "nomMenAltMas=\"\"\n",
    "nomMayAltFem=\"\"\n",
    "nomMenAltFem=\"\"\n",
    "totalM=0\n",
    "totalF=0"
   ]
  },
  {
   "cell_type": "code",
   "execution_count": 2,
   "metadata": {},
   "outputs": [
    {
     "name": "stdout",
     "output_type": "stream",
     "text": [
      "Ingrese su nombre:   Sergio\n",
      "Ingrese su genero:   m\n",
      "Ingrese su altura:   1.80\n",
      "Ingrese su nombre:   donald\n",
      "Ingrese su genero:   m\n",
      "Ingrese su altura:   1.50\n",
      "Ingrese su nombre:   nataly\n",
      "Ingrese su genero:   f\n",
      "Ingrese su altura:   1.60\n",
      "Ingrese su nombre:   ferrer\n",
      "Ingrese su genero:   f\n",
      "Ingrese su altura:   1.20\n"
     ]
    }
   ],
   "source": [
    "for x in range(cantPer):\n",
    "    leerNombre=input(\"Ingrese su nombre:   \")\n",
    "    leerGenero=input(\"Ingrese su genero:   \")\n",
    "    leerAltura=float(input(\"Ingrese su altura:   \"))\n",
    "    if (leerGenero)==\"m\":\n",
    "        acuSumAltMas=acuSumAltMas+leerAltura\n",
    "        totalM=totalM+1\n",
    "        if (leerAltura>mayAltMas):\n",
    "            mayAltMas=leerAltura\n",
    "            nomMayAltMas=leerNombre\n",
    "        if (leerAltura<menAltMas):\n",
    "            menAltMas=leerAltura\n",
    "            nomMenAltMas=leerNombre\n",
    "            \n",
    "            \n",
    "    else:\n",
    "        if (leerGenero)==\"f\":\n",
    "            acuSumAltFem=acuSumAltFem+leerAltura\n",
    "            totalF=totalF+1\n",
    "            if (leerAltura>mayAltFem):\n",
    "                mayAltFem=leerAltura\n",
    "                nomMayAltFem=leerNombre\n",
    "            if (leerAltura<menAltFem):\n",
    "                menAltFem=leerAltura\n",
    "                nomMenAltFem=leerNombre\n",
    "    if mayAltMas>mayAltFem:\n",
    "        mayAltGen=mayAltMas\n",
    "    else:\n",
    "        mayAltGen=mayAltGen\n",
    "    \n",
    "    if menAltMas>menAltFem:\n",
    "        menAltGen=menAltMas\n",
    "    else:\n",
    "        menAltGen=menAltGen\n",
    "\n",
    "            \n",
    "        \n",
    "        \n",
    "        "
   ]
  },
  {
   "cell_type": "code",
   "execution_count": 3,
   "metadata": {},
   "outputs": [
    {
     "name": "stdout",
     "output_type": "stream",
     "text": [
      "El mayor de los hombres es:   \n",
      "1.8\n",
      "Sergio\n",
      "El menor de los hombres es:   \n",
      "1.5\n",
      "donald\n",
      "la mayor de las mujeres es:   natalycon la altura 1.6\n",
      "la menor de las mujeres es:   ferrercon la altura 1.2\n",
      "El promedio de todas las personas es: 1.525\n",
      "El promedio de los hombres es: 1.65\n",
      "El promedio de las mujeres es: 1.4\n"
     ]
    }
   ],
   "source": [
    "print(\"El mayor de los hombres es:   \")\n",
    "print(mayAltMas)\n",
    "print(nomMayAltMas)\n",
    "print(\"El menor de los hombres es:   \")\n",
    "print(menAltMas)\n",
    "print(nomMenAltMas)\n",
    "\n",
    "print(\"la mayor de las mujeres es:   \"+str(nomMayAltFem)+ \" con la altura \"+ str(mayAltFem))\n",
    "\n",
    "print(\"la menor de las mujeres es:   \"+str(nomMenAltFem)+ \" con la altura \"+ str(menAltFem))\n",
    "\n",
    "\n",
    "acumuladorTotal= (acuSumAltMas + acuSumAltFem)/cantPer\n",
    "\n",
    "print(\"El promedio de todas las personas es: \"+str(acumuladorTotal))\n",
    "\n",
    "\n",
    "acumuladorTM= acuSumAltMas/totalM\n",
    "print(\"El promedio de los hombres es: \"+str(acumuladorTM))\n",
    "\n",
    "\n",
    "acumuladorTF= acuSumAltFem/totalF\n",
    "print(\"El promedio de las mujeres es: \"+str(acumuladorTF))\n"
   ]
  }
 ],
 "metadata": {
  "kernelspec": {
   "display_name": "Python 3",
   "language": "python",
   "name": "python3"
  },
  "language_info": {
   "codemirror_mode": {
    "name": "ipython",
    "version": 3
   },
   "file_extension": ".py",
   "mimetype": "text/x-python",
   "name": "python",
   "nbconvert_exporter": "python",
   "pygments_lexer": "ipython3",
   "version": "3.7.4"
  }
 },
 "nbformat": 4,
 "nbformat_minor": 2
}
