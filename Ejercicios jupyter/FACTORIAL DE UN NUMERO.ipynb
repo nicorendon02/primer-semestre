{
 "cells": [
  {
   "cell_type": "code",
   "execution_count": 1,
   "metadata": {},
   "outputs": [
    {
     "name": "stdout",
     "output_type": "stream",
     "text": [
      "EL FACTORIAL DE UN NUMERO\n",
      "digite el numero:5\n",
      "el factorial del numero es:\n",
      "120\n"
     ]
    }
   ],
   "source": [
    "print(\"EL FACTORIAL DE UN NUMERO\")\n",
    "n=int(input(\"digite el numero:\"))\n",
    "factorial=n\n",
    "for n in range(1,n,1):\n",
    "    factorial=factorial*n\n",
    "print(\"el factorial del numero es:\")\n",
    "print(factorial)"
   ]
  },
  {
   "cell_type": "code",
   "execution_count": null,
   "metadata": {},
   "outputs": [],
   "source": []
  }
 ],
 "metadata": {
  "kernelspec": {
   "display_name": "Python 3",
   "language": "python",
   "name": "python3"
  },
  "language_info": {
   "codemirror_mode": {
    "name": "ipython",
    "version": 3
   },
   "file_extension": ".py",
   "mimetype": "text/x-python",
   "name": "python",
   "nbconvert_exporter": "python",
   "pygments_lexer": "ipython3",
   "version": "3.7.4"
  }
 },
 "nbformat": 4,
 "nbformat_minor": 2
}
