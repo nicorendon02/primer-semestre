{
 "cells": [
  {
   "cell_type": "markdown",
   "metadata": {},
   "source": [
    "### PROMEDIO ALTURA GRUPO"
   ]
  },
  {
   "cell_type": "markdown",
   "metadata": {},
   "source": [
    "### CLASIFICACION POR SEXO Y MEDICION DEL HOMBRE Y MUJER MAS ALTO(A)"
   ]
  },
  {
   "cell_type": "code",
   "execution_count": 1,
   "metadata": {},
   "outputs": [
    {
     "name": "stdout",
     "output_type": "stream",
     "text": [
      "Cuantas estaturas va a ingresar: 2\n",
      "Ingrese genero, F para Femenino, M para Masculino : f\n",
      "ingrese nombre: tatiana\n",
      "Ingrese la estatura: 1.80\n",
      "____________________________________________________________\n",
      "Ingrese genero, F para Femenino, M para Masculino : m\n",
      "ingrese nombre: carlos\n",
      "Ingrese la estatura: 1.00\n",
      "____________________________________________________________\n",
      "[[1.8, 'tatiana']]\n",
      "[[1.0, 'carlos']]\n",
      "El promedio de estatura del grupo es:  1.4\n",
      "El promedio de los hombres es:  1.0\n",
      "El promedio de las mujeres es:  1.8\n",
      "El promedio mas alto es de las mujeres:  1.0\n",
      "El hombre mas alto es:  [1.0, 'carlos']\n",
      "El hombre mas bajo es:  [1.0, 'carlos']\n",
      "La mujer mas alta es:  [1.8, 'tatiana']\n",
      "La mujer mas baja es:  [1.8, 'tatiana']\n"
     ]
    }
   ],
   "source": [
    "x=0\n",
    "estmasc=0\n",
    "estfem=0\n",
    "fem=0\n",
    "masc=0\n",
    "numhom=0\n",
    "nummuj=0\n",
    "listamuj=[]\n",
    "listahom=[]\n",
    "n=int(input(\"Cuantas estaturas va a ingresar: \"))\n",
    "while x<n:\n",
    "    genero=input(\"Ingrese genero, F para Femenino, M para Masculino : \")\n",
    "    generomin=genero.lower()\n",
    "    nombre=input(\"ingrese nombre: \")\n",
    "    estatura=float(input(\"Ingrese la estatura: \"))\n",
    "    print(\"____________________________________________________________\")\n",
    "                    \n",
    "    if generomin==\"f\":\n",
    "        estfem=estfem+estatura\n",
    "        nummuj=nummuj+1\n",
    "        listamuj.append([estatura,nombre])\n",
    "        \n",
    "    else:\n",
    "        if generomin==\"m\":\n",
    "            estmasc=estmasc+estatura\n",
    "            numhom=numhom+1\n",
    "            listahom.append([estatura, nombre])\n",
    "\n",
    "    x=x+1\n",
    "print(listamuj)\n",
    "print(listahom)\n",
    "promestgrupo=(estfem+estmasc)/(numhom+nummuj)\n",
    "prommasc=estmasc/numhom\n",
    "promfem=estfem/nummuj\n",
    "\n",
    "print(\"El promedio de estatura del grupo es: \", promestgrupo)\n",
    "print(\"El promedio de los hombres es: \", prommasc)\n",
    "print(\"El promedio de las mujeres es: \", promfem)\n",
    "if prommasc>promfem:\n",
    "    print(\"El promedio mas alto es el de los hombres: \", prommasc)\n",
    "else:\n",
    "    if prommasc<promfem:\n",
    "        print(\"El promedio mas alto es de las mujeres: \", prommasc)\n",
    "    else:\n",
    "        print(\"Ambos promedios son iguales\")\n",
    "        \n",
    "print(\"El hombre mas alto es: \", max(listahom))\n",
    "print(\"El hombre mas bajo es: \",min(listahom))\n",
    "print(\"La mujer mas alta es: \", max(listamuj))\n",
    "print(\"La mujer mas baja es: \",min(listamuj))"
   ]
  }
 ],
 "metadata": {
  "kernelspec": {
   "display_name": "Python 3",
   "language": "python",
   "name": "python3"
  },
  "language_info": {
   "codemirror_mode": {
    "name": "ipython",
    "version": 3
   },
   "file_extension": ".py",
   "mimetype": "text/x-python",
   "name": "python",
   "nbconvert_exporter": "python",
   "pygments_lexer": "ipython3",
   "version": "3.7.4"
  }
 },
 "nbformat": 4,
 "nbformat_minor": 2
}
