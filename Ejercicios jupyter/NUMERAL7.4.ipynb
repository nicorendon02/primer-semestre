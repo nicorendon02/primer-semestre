{
 "cells": [
  {
   "cell_type": "markdown",
   "metadata": {},
   "source": [
    "### UNO DOS O TRES DIGITOS"
   ]
  },
  {
   "cell_type": "code",
   "execution_count": 5,
   "metadata": {},
   "outputs": [
    {
     "name": "stdout",
     "output_type": "stream",
     "text": [
      "ingrese un numero12330\n",
      "es de tres cifras\n",
      "es de dos cifras\n"
     ]
    }
   ],
   "source": [
    "num=int(input(\"ingrese un valor de hasta tres digitos positivo\"))\n",
    "if num<10:\n",
    "    print(\"tiene un digito\")\n",
    "else:\n",
    "    if num<100:\n",
    "        print(\"tiene dos digitos\")\n",
    "    else:\n",
    "        if num<1000:\n",
    "            print(\"tiene tres digitos\")\n",
    "        else:\n",
    "            print(\"error\")"
   ]
  }
 ],
 "metadata": {
  "kernelspec": {
   "display_name": "Python 3",
   "language": "python",
   "name": "python3"
  },
  "language_info": {
   "codemirror_mode": {
    "name": "ipython",
    "version": 3
   },
   "file_extension": ".py",
   "mimetype": "text/x-python",
   "name": "python",
   "nbconvert_exporter": "python",
   "pygments_lexer": "ipython3",
   "version": "3.7.4"
  }
 },
 "nbformat": 4,
 "nbformat_minor": 2
}
