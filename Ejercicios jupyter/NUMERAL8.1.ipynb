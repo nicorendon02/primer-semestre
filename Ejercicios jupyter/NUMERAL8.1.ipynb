{
 "cells": [
  {
   "cell_type": "markdown",
   "metadata": {},
   "source": [
    "### USO DEL AND Y OR"
   ]
  },
  {
   "cell_type": "code",
   "execution_count": null,
   "metadata": {},
   "outputs": [],
   "source": [
    "num1=int(input(\"Ingrese primer valor:\"))\n",
    "num2=int(input(\"Ingrese segundo valor:\"))\n",
    "num3=int(input(\"Ingrese tercer valor:\"))\n",
    "print(\"El mayor de los tres valores es\")\n",
    "if num1>num2 and num1>num3:\n",
    "    print(num1)\n",
    "else:\n",
    "    if num2>num3:\n",
    "        print(num2)\n",
    "    else:\n",
    "        print(num3)"
   ]
  }
 ],
 "metadata": {
  "kernelspec": {
   "display_name": "Python 3",
   "language": "python",
   "name": "python3"
  },
  "language_info": {
   "codemirror_mode": {
    "name": "ipython",
    "version": 3
   },
   "file_extension": ".py",
   "mimetype": "text/x-python",
   "name": "python",
   "nbconvert_exporter": "python",
   "pygments_lexer": "ipython3",
   "version": "3.7.4"
  }
 },
 "nbformat": 4,
 "nbformat_minor": 2
}
