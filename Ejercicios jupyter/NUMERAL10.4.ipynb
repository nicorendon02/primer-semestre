{
 "cells": [
  {
   "cell_type": "markdown",
   "metadata": {},
   "source": [
    "### SUMA Y PROMEDIO"
   ]
  },
  {
   "cell_type": "code",
   "execution_count": 2,
   "metadata": {},
   "outputs": [
    {
     "name": "stdout",
     "output_type": "stream",
     "text": [
      "ingrese el valor1\n",
      "ingrese el valor2\n",
      "ingrese el valor3\n",
      "ingrese el valor4\n",
      "ingrese el valor5\n",
      "ingrese el valor6\n",
      "ingrese el valor7\n",
      "ingrese el valor8\n",
      "ingrese el valor9\n",
      "ingrese el valor10\n",
      "la suma de los valores es\n",
      "55\n",
      "el promedio de los valores es\n",
      "5.5\n"
     ]
    }
   ],
   "source": [
    "suma=0\n",
    "for x in range(0,10):\n",
    "    n=int(input(\"ingrese el valor\"))\n",
    "    suma=suma+n\n",
    "promedio=suma/10\n",
    "print(\"la suma de los valores es\")\n",
    "print(suma)\n",
    "print(\"el promedio de los valores es\")\n",
    "print(promedio)\n",
    "    "
   ]
  }
 ],
 "metadata": {
  "kernelspec": {
   "display_name": "Python 3",
   "language": "python",
   "name": "python3"
  },
  "language_info": {
   "codemirror_mode": {
    "name": "ipython",
    "version": 3
   },
   "file_extension": ".py",
   "mimetype": "text/x-python",
   "name": "python",
   "nbconvert_exporter": "python",
   "pygments_lexer": "ipython3",
   "version": "3.7.4"
  }
 },
 "nbformat": 4,
 "nbformat_minor": 2
}
