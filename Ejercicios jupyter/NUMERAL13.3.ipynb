{
 "cells": [
  {
   "cell_type": "markdown",
   "metadata": {},
   "source": [
    "### MAIL"
   ]
  },
  {
   "cell_type": "code",
   "execution_count": null,
   "metadata": {},
   "outputs": [],
   "source": [
    "mail=input(\"Ingrese un mail:\")\n",
    "cantidad=0\n",
    "x=0\n",
    "while x<len(mail):\n",
    "    if mail[x]==\"@\":\n",
    "        cantidad=cantidad+1\n",
    "    x=x+1\n",
    "if cantidad==1:\n",
    "    print(\"Contiene solo un caracter @ el mail ingresado\")\n",
    "else:\n",
    "    print(\"Incorrecto\")"
   ]
  }
 ],
 "metadata": {
  "kernelspec": {
   "display_name": "Python 3",
   "language": "python",
   "name": "python3"
  },
  "language_info": {
   "codemirror_mode": {
    "name": "ipython",
    "version": 3
   },
   "file_extension": ".py",
   "mimetype": "text/x-python",
   "name": "python",
   "nbconvert_exporter": "python",
   "pygments_lexer": "ipython3",
   "version": "3.7.4"
  }
 },
 "nbformat": 4,
 "nbformat_minor": 2
}
