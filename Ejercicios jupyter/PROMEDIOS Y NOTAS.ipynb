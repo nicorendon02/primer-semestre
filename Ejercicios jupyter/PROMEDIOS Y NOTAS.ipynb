{
 "cells": [
  {
   "cell_type": "code",
   "execution_count": 1,
   "metadata": {},
   "outputs": [],
   "source": [
    "### CALCULO DE NOTAS Y PROMEDIO"
   ]
  },
  {
   "cell_type": "code",
   "execution_count": 2,
   "metadata": {},
   "outputs": [
    {
     "name": "stdout",
     "output_type": "stream",
     "text": [
      "nombre del estudiante1\n",
      "materia2\n",
      "ingrese primera nota5\n",
      "ingrese segunda nota4\n",
      "ingrese tercera nota3\n",
      "sus resultados academicos son\n",
      "estudiante\n",
      "1\n",
      "materia\n",
      "2\n",
      "su promedio es\n",
      "4.0\n",
      "concepto\n",
      "gano la materia\n"
     ]
    }
   ],
   "source": [
    "num1=int(input(\"nombre del estudiante\"))\n",
    "num2=int(input(\"materia\"))\n",
    "num3=int(input(\"ingrese primera nota\"))\n",
    "num4=int(input(\"ingrese segunda nota\"))\n",
    "num5=int(input(\"ingrese tercera nota\"))\n",
    "prom=((num3+num4+num5)/3)\n",
    "print(\"sus resultados academicos son\")\n",
    "print(\"estudiante\")\n",
    "print(num1)\n",
    "print(\"materia\")\n",
    "print(num2)\n",
    "print(\"su promedio es\")\n",
    "print((num3+num4+num5)/3)\n",
    "print(\"concepto\")\n",
    "if prom>3:\n",
    "    print(\"gano la materia\")\n",
    "else:\n",
    "    print(\"perdio la materia\")"
   ]
  }
 ],
 "metadata": {
  "kernelspec": {
   "display_name": "Python 3",
   "language": "python",
   "name": "python3"
  },
  "language_info": {
   "codemirror_mode": {
    "name": "ipython",
    "version": 3
   },
   "file_extension": ".py",
   "mimetype": "text/x-python",
   "name": "python",
   "nbconvert_exporter": "python",
   "pygments_lexer": "ipython3",
   "version": "3.7.4"
  }
 },
 "nbformat": 4,
 "nbformat_minor": 2
}
