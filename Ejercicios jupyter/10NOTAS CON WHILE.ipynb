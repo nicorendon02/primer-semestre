{
 "cells": [
  {
   "cell_type": "code",
   "execution_count": 2,
   "metadata": {},
   "outputs": [
    {
     "name": "stdout",
     "output_type": "stream",
     "text": [
      "ingrese la nota1\n",
      "ingrese la nota2\n",
      "ingrese la nota3\n",
      "ingrese la nota4\n",
      "ingrese la nota5\n",
      "ingrese la nota6\n",
      "ingrese la nota7\n",
      "ingrese la nota8\n",
      "ingrese la nota9\n",
      "ingrese la nota10\n",
      "los valores mayores o iguales a 7 son\n",
      "4\n",
      "los valores menores a 7 son\n",
      "6\n"
     ]
    }
   ],
   "source": [
    "mayores=0\n",
    "menores=0\n",
    "x=1\n",
    "\n",
    "while x<=10:\n",
    "    n=int(input(\"ingrese la nota\"))\n",
    "    if n>=7:\n",
    "        mayores=mayores+1\n",
    "    else:\n",
    "        menores=menores+1\n",
    "    x=x+1\n",
    "print(\"los valores mayores o iguales a 7 son\")\n",
    "print(mayores)\n",
    "print(\"los valores menores a 7 son\")\n",
    "print(menores)\n",
    "    \n",
    "    "
   ]
  }
 ],
 "metadata": {
  "kernelspec": {
   "display_name": "Python 3",
   "language": "python",
   "name": "python3"
  },
  "language_info": {
   "codemirror_mode": {
    "name": "ipython",
    "version": 3
   },
   "file_extension": ".py",
   "mimetype": "text/x-python",
   "name": "python",
   "nbconvert_exporter": "python",
   "pygments_lexer": "ipython3",
   "version": "3.7.4"
  }
 },
 "nbformat": 4,
 "nbformat_minor": 2
}
