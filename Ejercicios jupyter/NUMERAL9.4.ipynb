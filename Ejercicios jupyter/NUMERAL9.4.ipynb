{
 "cells": [
  {
   "cell_type": "markdown",
   "metadata": {},
   "source": [
    "### CANTIDAD"
   ]
  },
  {
   "cell_type": "code",
   "execution_count": null,
   "metadata": {},
   "outputs": [],
   "source": [
    "cantidad=0\n",
    "x=1\n",
    "n=int(input(\"Cuantas piezas cargara:\"))\n",
    "while x<=n:\n",
    "    largo=float(input(\"Ingrese la medida de la pieza:\"))\n",
    "    if largo>=1.2 and largo<=1.3:\n",
    "        cantidad=cantidad+1\n",
    "    x=x+1\n",
    "print(\"La cantidad de piezas aptas son\")\n",
    "print(cantidad)"
   ]
  }
 ],
 "metadata": {
  "kernelspec": {
   "display_name": "Python 3",
   "language": "python",
   "name": "python3"
  },
  "language_info": {
   "codemirror_mode": {
    "name": "ipython",
    "version": 3
   },
   "file_extension": ".py",
   "mimetype": "text/x-python",
   "name": "python",
   "nbconvert_exporter": "python",
   "pygments_lexer": "ipython3",
   "version": "3.7.4"
  }
 },
 "nbformat": 4,
 "nbformat_minor": 2
}
