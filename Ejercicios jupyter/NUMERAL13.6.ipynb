{
 "cells": [
  {
   "cell_type": "markdown",
   "metadata": {},
   "source": [
    "### ORACION"
   ]
  },
  {
   "cell_type": "code",
   "execution_count": null,
   "metadata": {},
   "outputs": [],
   "source": [
    "oracion=input(\"Ingrese una oracion:\")\n",
    "oracionmin=oracion.lower()\n",
    "cantidad=0\n",
    "x=0\n",
    "while x<len(oracionmin):\n",
    "    if oracionmin[x]==\"a\" or oracionmin[x]==\"e\" or oracionmin[x]==\"i\" or oracionmin[x]==\"o\" or oracionmin[x]==\"u\":\n",
    "        cantidad=cantidad+1\n",
    "    x=x+1\n",
    "print(\"La cantidad de vocales de la oracion son\")\n",
    "print(cantidad)\n"
   ]
  }
 ],
 "metadata": {
  "kernelspec": {
   "display_name": "Python 3",
   "language": "python",
   "name": "python3"
  },
  "language_info": {
   "codemirror_mode": {
    "name": "ipython",
    "version": 3
   },
   "file_extension": ".py",
   "mimetype": "text/x-python",
   "name": "python",
   "nbconvert_exporter": "python",
   "pygments_lexer": "ipython3",
   "version": "3.7.4"
  }
 },
 "nbformat": 4,
 "nbformat_minor": 2
}
