{
 "cells": [
  {
   "cell_type": "markdown",
   "metadata": {},
   "source": [
    "### VOCAL"
   ]
  },
  {
   "cell_type": "code",
   "execution_count": null,
   "metadata": {},
   "outputs": [],
   "source": [
    "nombre=input(\"Ingrese su nombre:\")\n",
    "if nombre[0]==\"a\" or nombre[0]==\"e\" or nombre[0]==\"i\" or nombre[0]==\"o\" or nombre[0]==\"u\":\n",
    "    print(\"El nombre ingresado comienza con vocal\")\n",
    "else:\n",
    "    print(\"El nombre ingresado no comienza con vocal\")"
   ]
  }
 ],
 "metadata": {
  "kernelspec": {
   "display_name": "Python 3",
   "language": "python",
   "name": "python3"
  },
  "language_info": {
   "codemirror_mode": {
    "name": "ipython",
    "version": 3
   },
   "file_extension": ".py",
   "mimetype": "text/x-python",
   "name": "python",
   "nbconvert_exporter": "python",
   "pygments_lexer": "ipython3",
   "version": "3.7.4"
  }
 },
 "nbformat": 4,
 "nbformat_minor": 2
}
