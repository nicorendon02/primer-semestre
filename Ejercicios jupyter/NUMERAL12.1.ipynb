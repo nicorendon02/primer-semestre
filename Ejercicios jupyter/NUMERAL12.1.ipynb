{
 "cells": [
  {
   "cell_type": "markdown",
   "metadata": {},
   "source": [
    "### PERSONA MAS ALTA"
   ]
  },
  {
   "cell_type": "code",
   "execution_count": null,
   "metadata": {},
   "outputs": [],
   "source": [
    "print(\"Datos de la primer persona\")\n",
    "nombre1=input(\"Ingrese nombre:\")\n",
    "edad1=int(input(\"Ingrese la edad:\"))\n",
    "altura1=float(input(\"Ingrese la altura Ej 1.75:\"))\n",
    "print(\"Datos de la segunda persona\")\n",
    "nombre2=input(\"Ingrese nombre:\")\n",
    "edad2=int(input(\"Ingrese la edad:\"))\n",
    "altura2=float(input(\"Ingrese la altura Ej 1.75:\"))\n",
    "print(\"La persona mas alta es:\")\n",
    "if altura1>altura2:\n",
    "    print(nombre1)\n",
    "else:\n",
    "    print(nombre2)"
   ]
  }
 ],
 "metadata": {
  "kernelspec": {
   "display_name": "Python 3",
   "language": "python",
   "name": "python3"
  },
  "language_info": {
   "codemirror_mode": {
    "name": "ipython",
    "version": 3
   },
   "file_extension": ".py",
   "mimetype": "text/x-python",
   "name": "python",
   "nbconvert_exporter": "python",
   "pygments_lexer": "ipython3",
   "version": "3.7.4"
  }
 },
 "nbformat": 4,
 "nbformat_minor": 2
}
