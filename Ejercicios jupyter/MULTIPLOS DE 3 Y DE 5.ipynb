{
 "cells": [
  {
   "cell_type": "code",
   "execution_count": null,
   "metadata": {},
   "outputs": [
    {
     "name": "stdout",
     "output_type": "stream",
     "text": [
      "ingrese la nota:3\n",
      "ingrese la nota:4\n",
      "ingrese la nota:5\n",
      "ingrese la nota:5\n",
      "ingrese la nota:6\n"
     ]
    }
   ],
   "source": [
    "mul3=0\n",
    "mul5=0\n",
    "for f in range(10):\n",
    "    valor=int(input(\"Ingrese un valor\"))\n",
    "    if valor%3==0:\n",
    "        mul3=mul3+1\n",
    "    if valor%5==0:\n",
    "        mul5=mul5+1\n",
    "print(\"cantidad de valores multiplos de 3\")\n",
    "print(mul3)\n",
    "print(\"cantidad de valores multiplos de 5\")\n",
    "print(mul5)\n",
    "                    "
   ]
  }
 ],
 "metadata": {
  "kernelspec": {
   "display_name": "Python 3",
   "language": "python",
   "name": "python3"
  },
  "language_info": {
   "codemirror_mode": {
    "name": "ipython",
    "version": 3
   },
   "file_extension": ".py",
   "mimetype": "text/x-python",
   "name": "python",
   "nbconvert_exporter": "python",
   "pygments_lexer": "ipython3",
   "version": "3.7.4"
  }
 },
 "nbformat": 4,
 "nbformat_minor": 2
}
