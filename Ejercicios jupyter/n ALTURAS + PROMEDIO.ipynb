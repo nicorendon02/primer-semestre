{
 "cells": [
  {
   "cell_type": "code",
   "execution_count": 1,
   "metadata": {},
   "outputs": [
    {
     "name": "stdout",
     "output_type": "stream",
     "text": [
      "ingrese cuantas alturas va a ingresar4\n",
      "ingrese el valor de la altura1.2\n",
      "ingrese el valor de la altura1.4\n",
      "ingrese el valor de la altura1.6\n",
      "ingrese el valor de la altura1.8\n",
      "el promedio es\n",
      "1.4999999999999998\n"
     ]
    }
   ],
   "source": [
    "x=1\n",
    "suma=0\n",
    "n=int(input(\"ingrese cuantas alturas va a ingresar\"))\n",
    "\n",
    "while x<=n:\n",
    "    v=float(input(\"ingrese el valor de la altura\"))\n",
    "    suma=suma+v\n",
    "    x=x+1\n",
    "promedio=suma/n\n",
    "print(\"el promedio es\")\n",
    "print(promedio)\n",
    " \n",
    "    "
   ]
  }
 ],
 "metadata": {
  "kernelspec": {
   "display_name": "Python 3",
   "language": "python",
   "name": "python3"
  },
  "language_info": {
   "codemirror_mode": {
    "name": "ipython",
    "version": 3
   },
   "file_extension": ".py",
   "mimetype": "text/x-python",
   "name": "python",
   "nbconvert_exporter": "python",
   "pygments_lexer": "ipython3",
   "version": "3.7.4"
  }
 },
 "nbformat": 4,
 "nbformat_minor": 2
}
