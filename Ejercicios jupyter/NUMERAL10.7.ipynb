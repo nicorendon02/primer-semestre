{
 "cells": [
  {
   "cell_type": "markdown",
   "metadata": {},
   "source": [
    "### MAYORES O IGUALES A 1000"
   ]
  },
  {
   "cell_type": "code",
   "execution_count": 1,
   "metadata": {},
   "outputs": [
    {
     "name": "stdout",
     "output_type": "stream",
     "text": [
      "Cuantos valores ingresará:4\n",
      "Ingrese el valor:800\n",
      "Ingrese el valor:900\n",
      "Ingrese el valor:1000\n",
      "Ingrese el valor:1100\n",
      "La cantidad de valores ingresados mayores o iguales a 1000 son\n",
      "2\n"
     ]
    }
   ],
   "source": [
    "cantidad=0\n",
    "n=int(input(\"Cuantos valores ingresará:\"))\n",
    "for f in range(n):\n",
    "    valor=int(input(\"Ingrese el valor:\"))\n",
    "    if valor>=1000:\n",
    "        cantidad=cantidad+1\n",
    "print(\"La cantidad de valores ingresados mayores o iguales a 1000 son\")\n",
    "print(cantidad)"
   ]
  }
 ],
 "metadata": {
  "kernelspec": {
   "display_name": "Python 3",
   "language": "python",
   "name": "python3"
  },
  "language_info": {
   "codemirror_mode": {
    "name": "ipython",
    "version": 3
   },
   "file_extension": ".py",
   "mimetype": "text/x-python",
   "name": "python",
   "nbconvert_exporter": "python",
   "pygments_lexer": "ipython3",
   "version": "3.7.4"
  }
 },
 "nbformat": 4,
 "nbformat_minor": 2
}
