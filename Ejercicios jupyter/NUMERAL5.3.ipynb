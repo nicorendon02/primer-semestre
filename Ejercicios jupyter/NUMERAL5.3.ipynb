{
 "cells": [
  {
   "cell_type": "markdown",
   "metadata": {},
   "source": [
    "### PERIMETRO DEL CUADRADO"
   ]
  },
  {
   "cell_type": "code",
   "execution_count": 2,
   "metadata": {},
   "outputs": [
    {
     "name": "stdout",
     "output_type": "stream",
     "text": [
      "ingrese el valor del lado del cuadrado4\n",
      "el perimetro del cuadrado es\n",
      "16\n"
     ]
    }
   ],
   "source": [
    "num1=int(input(\"ingrese el valor del lado del cuadrado\"))\n",
    "perimetro=num1*4\n",
    "print(\"el perimetro del cuadrado es\")\n",
    "print(perimetro)"
   ]
  }
 ],
 "metadata": {
  "kernelspec": {
   "display_name": "Python 3",
   "language": "python",
   "name": "python3"
  },
  "language_info": {
   "codemirror_mode": {
    "name": "ipython",
    "version": 3
   },
   "file_extension": ".py",
   "mimetype": "text/x-python",
   "name": "python",
   "nbconvert_exporter": "python",
   "pygments_lexer": "ipython3",
   "version": "3.7.4"
  }
 },
 "nbformat": 4,
 "nbformat_minor": 2
}
