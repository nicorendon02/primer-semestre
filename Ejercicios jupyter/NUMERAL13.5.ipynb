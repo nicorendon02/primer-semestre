{
 "cells": [
  {
   "cell_type": "markdown",
   "metadata": {},
   "source": [
    "### ESPACIOS EN BLANCO"
   ]
  },
  {
   "cell_type": "code",
   "execution_count": 1,
   "metadata": {},
   "outputs": [
    {
     "name": "stdout",
     "output_type": "stream",
     "text": [
      "Ingrese una oracion:hola pedro\n",
      "La cantidad de espacios en blanco ingresado son\n",
      "1\n"
     ]
    }
   ],
   "source": [
    "oracion=input(\"Ingrese una oracion:\")\n",
    "cantidad=0\n",
    "x=0\n",
    "while x<len(oracion):\n",
    "    if oracion[x]==\" \":\n",
    "        cantidad=cantidad+1\n",
    "    x=x+1\n",
    "print(\"La cantidad de espacios en blanco ingresado son\")\n",
    "print(cantidad)"
   ]
  }
 ],
 "metadata": {
  "kernelspec": {
   "display_name": "Python 3",
   "language": "python",
   "name": "python3"
  },
  "language_info": {
   "codemirror_mode": {
    "name": "ipython",
    "version": 3
   },
   "file_extension": ".py",
   "mimetype": "text/x-python",
   "name": "python",
   "nbconvert_exporter": "python",
   "pygments_lexer": "ipython3",
   "version": "3.7.4"
  }
 },
 "nbformat": 4,
 "nbformat_minor": 2
}
