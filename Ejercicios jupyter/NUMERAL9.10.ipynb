{
 "cells": [
  {
   "cell_type": "markdown",
   "metadata": {},
   "source": [
    "### LISTAS"
   ]
  },
  {
   "cell_type": "code",
   "execution_count": null,
   "metadata": {},
   "outputs": [],
   "source": [
    "x=1\n",
    "suma1=0\n",
    "suma2=0\n",
    "print(\"primer lista\")\n",
    "while x<=15:\n",
    "    valor=int(input(\"Ingrese valor:\"))\n",
    "    suma1=suma1+valor\n",
    "    x=x+1\n",
    "print(\"Segunda lista\")\n",
    "x = 1\n",
    "while x<=15:\n",
    "    valor=int(input(\"Ingrese valor:\"))\n",
    "    suma2=suma2+valor\n",
    "    x=x+1\n",
    "if suma1>suma2:\n",
    "    print(\"Lista 1 mayor.\")\n",
    "else:\n",
    "    if suma2>suma1:\n",
    "        print(\"Lista2 mayor.\")\n",
    "    else:\n",
    "        print(\"Listas iguales.\")\n"
   ]
  }
 ],
 "metadata": {
  "kernelspec": {
   "display_name": "Python 3",
   "language": "python",
   "name": "python3"
  },
  "language_info": {
   "codemirror_mode": {
    "name": "ipython",
    "version": 3
   },
   "file_extension": ".py",
   "mimetype": "text/x-python",
   "name": "python",
   "nbconvert_exporter": "python",
   "pygments_lexer": "ipython3",
   "version": "3.7.4"
  }
 },
 "nbformat": 4,
 "nbformat_minor": 2
}
