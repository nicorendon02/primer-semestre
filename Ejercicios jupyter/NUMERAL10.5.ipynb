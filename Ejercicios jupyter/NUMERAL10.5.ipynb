{
 "cells": [
  {
   "cell_type": "markdown",
   "metadata": {},
   "source": [
    "### APROBADOS Y REPROBADOS"
   ]
  },
  {
   "cell_type": "code",
   "execution_count": null,
   "metadata": {},
   "outputs": [],
   "source": [
    "aprobados=0\n",
    "reprobados=0\n",
    "for f in range(10):\n",
    "    nota=int(input(\"Ingrese la nota:\"))\n",
    "    if nota>=7:\n",
    "        aprobados=aprobados+1\n",
    "    else:\n",
    "        reprobados=reprobados+1\n",
    "print(\"Cantidad de aprobados\")\n",
    "print(aprobados)\n",
    "print(\"Cantidad de reprobados\")\n",
    "print(reprobados)"
   ]
  }
 ],
 "metadata": {
  "kernelspec": {
   "display_name": "Python 3",
   "language": "python",
   "name": "python3"
  },
  "language_info": {
   "codemirror_mode": {
    "name": "ipython",
    "version": 3
   },
   "file_extension": ".py",
   "mimetype": "text/x-python",
   "name": "python",
   "nbconvert_exporter": "python",
   "pygments_lexer": "ipython3",
   "version": "3.7.4"
  }
 },
 "nbformat": 4,
 "nbformat_minor": 2
}
