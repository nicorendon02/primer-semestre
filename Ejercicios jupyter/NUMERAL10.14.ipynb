{
 "cells": [
  {
   "cell_type": "markdown",
   "metadata": {},
   "source": [
    "### NEGATIVOS POSITIVOS MULTIPLOS PARES E IMPARES"
   ]
  },
  {
   "cell_type": "code",
   "execution_count": null,
   "metadata": {},
   "outputs": [],
   "source": [
    "negativos=0\n",
    "positivos=0\n",
    "mult15=0\n",
    "sumapares=0\n",
    "for f in range(10):\n",
    "    valor=int(input(\"Ingrese valor:\"))\n",
    "    if valor<0:\n",
    "        negativos=negativos+1\n",
    "    else:\n",
    "        if valor>0:\n",
    "            positivos=positivos+1\n",
    "    if valor%15==0:\n",
    "        mult15=mult15+1\n",
    "    if valor%2==0:\n",
    "        sumapares=sumapares+valor\n",
    "\n",
    "print(\"Cantidad de valores negativos:\")\n",
    "print(negativos)\n",
    "print(\"Cantidad de valores positivos:\")\n",
    "print(positivos)\n",
    "print(\"Cantidad de valores múltiplos de 15:\")\n",
    "print(mult15)\n",
    "print(\"Suma de los valores pares:\")\n",
    "print(sumapares)"
   ]
  }
 ],
 "metadata": {
  "kernelspec": {
   "display_name": "Python 3",
   "language": "python",
   "name": "python3"
  },
  "language_info": {
   "codemirror_mode": {
    "name": "ipython",
    "version": 3
   },
   "file_extension": ".py",
   "mimetype": "text/x-python",
   "name": "python",
   "nbconvert_exporter": "python",
   "pygments_lexer": "ipython3",
   "version": "3.7.4"
  }
 },
 "nbformat": 4,
 "nbformat_minor": 2
}
