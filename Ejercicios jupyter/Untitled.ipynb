{
 "cells": [
  {
   "cell_type": "code",
   "execution_count": 1,
   "metadata": {},
   "outputs": [
    {
     "ename": "SyntaxError",
     "evalue": "invalid syntax (<ipython-input-1-ce8e77e0717e>, line 20)",
     "output_type": "error",
     "traceback": [
      "\u001b[1;36m  File \u001b[1;32m\"<ipython-input-1-ce8e77e0717e>\"\u001b[1;36m, line \u001b[1;32m20\u001b[0m\n\u001b[1;33m    if genero.casefold==M.casefold:\u001b[0m\n\u001b[1;37m                                  ^\u001b[0m\n\u001b[1;31mSyntaxError\u001b[0m\u001b[1;31m:\u001b[0m invalid syntax\n"
     ]
    }
   ],
   "source": [
    "canPer=0\n",
    "x=0\n",
    "nombre=\"\"\n",
    "genero=\"\"\n",
    "canPerMas=0\n",
    "canPerFem=0\n",
    "mayAltMas=0\n",
    "mayAltFem=0\n",
    "menAltMas=3\n",
    "menAltFem=3\n",
    "hombreAlto=\"\"\n",
    "mujerAlta=\"\"\n",
    "hombreBajo=\"\"\n",
    "mujerBaja=\"\"\n",
    "while x<=canPer:\n",
    "    nombre=input('ingrese el nombre:   ')\n",
    "    genero=input('ingrese el genero:   ')\n",
    "    altura=float(input('ingrese la altura:   ')\n",
    "\n",
    "    if genero.casefold==M.casefold:\n",
    "                 canPerMas=canPerMas+1\n",
    "\n",
    "                 if altura>mayAltMas:\n",
    "                     mayAltMas=mayAltMas+altura\n",
    "                     hombreAlto=hombreAlto+nombre\n",
    "\n",
    "                 else:\n",
    "                     if altura<menAltMas:\n",
    "                         menAltMas=menAltMas+altura\n",
    "                         hombreBajo=hombreBajo+nombre\n",
    "    \n",
    "                         \n",
    "    if genero.casefold=F.casefold:\n",
    "                 canPerFem=CanPerFem+1\n",
    "                 if altura>mayAltFem:\n",
    "                     mayAltFem=MayAltFem+1\n",
    "                     mujerAlta=mujerAlta+nombre\n",
    "                 else:\n",
    "                     if altura<menAltFem:\n",
    "                         menAltFem=menAltFem+altura\n",
    "                         mujerBaja=mujerBaja+nombre\n",
    "\n",
    "promGrup=(canPerMas+canPerFem)/canPer\n",
    "print('el promedio total del grupo es:   '+str(promGrup))\n",
    "print('la cantidad de hombres es:   '+str(canPerMas))\n",
    "print('la cantidad de mujeres es:   '+str(canPerFem))\n",
    "print('el hombre mas alto es:   '+str(hombreAlto)\n",
    "print('con la altura:   '+str(mayAltMas))\n",
    "print('el hombre mas bajo es:   '+str(hombreBajo))\n",
    "print('con la altura:   '+str(menAltMas))\n",
    "print('la mujer mas alta es:   '+str(mujerAlta))\n",
    "print('con la altura:   '+str(mayAltFem))\n",
    "print('la mujer mas baja es:   '+str(mujerBaja))\n",
    "print('con la altura:   '+str(menAltFem))\n",
    "            "
   ]
  },
  {
   "cell_type": "code",
   "execution_count": null,
   "metadata": {},
   "outputs": [],
   "source": []
  }
 ],
 "metadata": {
  "kernelspec": {
   "display_name": "Python 3",
   "language": "python",
   "name": "python3"
  },
  "language_info": {
   "codemirror_mode": {
    "name": "ipython",
    "version": 3
   },
   "file_extension": ".py",
   "mimetype": "text/x-python",
   "name": "python",
   "nbconvert_exporter": "python",
   "pygments_lexer": "ipython3",
   "version": "3.7.4"
  }
 },
 "nbformat": 4,
 "nbformat_minor": 2
}
