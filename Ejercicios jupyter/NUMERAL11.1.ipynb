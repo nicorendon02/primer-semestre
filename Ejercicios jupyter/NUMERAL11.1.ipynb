{
 "cells": [
  {
   "cell_type": "markdown",
   "metadata": {},
   "source": [
    "### COMENTARIO 1"
   ]
  },
  {
   "cell_type": "code",
   "execution_count": 1,
   "metadata": {},
   "outputs": [
    {
     "name": "stdout",
     "output_type": "stream",
     "text": [
      "Tabla del 5 empleando el while\n",
      "5\n",
      "10\n",
      "15\n",
      "20\n",
      "25\n",
      "30\n",
      "35\n",
      "40\n",
      "45\n",
      "50\n",
      "Tabla del 5 empleando el for\n",
      "5\n",
      "10\n",
      "15\n",
      "20\n",
      "25\n",
      "30\n",
      "35\n",
      "40\n",
      "45\n",
      "50\n"
     ]
    }
   ],
   "source": [
    "\"\"\"\n",
    "Mostrar la tabla de 5 con las estructuras repetitivas:\n",
    "  while\n",
    "  y\n",
    "  for\n",
    "\"\"\"\n",
    "\n",
    "#utilizando el while\n",
    "print(\"Tabla del 5 empleando el while\")\n",
    "x=5\n",
    "while x<=50:\n",
    "    print(x)\n",
    "    x=x+5\n",
    "\n",
    "#utilizando el for\n",
    "print(\"Tabla del 5 empleando el for\")\n",
    "for x in range(5,51,5):\n",
    "    print(x)    "
   ]
  },
  {
   "cell_type": "code",
   "execution_count": null,
   "metadata": {},
   "outputs": [],
   "source": []
  }
 ],
 "metadata": {
  "kernelspec": {
   "display_name": "Python 3",
   "language": "python",
   "name": "python3"
  },
  "language_info": {
   "codemirror_mode": {
    "name": "ipython",
    "version": 3
   },
   "file_extension": ".py",
   "mimetype": "text/x-python",
   "name": "python",
   "nbconvert_exporter": "python",
   "pygments_lexer": "ipython3",
   "version": "3.7.4"
  }
 },
 "nbformat": 4,
 "nbformat_minor": 2
}
