{
 "cells": [
  {
   "cell_type": "code",
   "execution_count": 2,
   "metadata": {},
   "outputs": [
    {
     "name": "stdout",
     "output_type": "stream",
     "text": [
      "ingrese el numero de empleados de la empresa4\n",
      "ingrese el sueldo del empleado100\n",
      "ingrese el sueldo del empleado200\n",
      "ingrese el sueldo del empleado400\n",
      "ingrese el sueldo del empleado500\n",
      "los empleados con sueldo entre 100 y 300 son\n",
      "2\n",
      "los empleados con sueldos de mas de 300 son\n",
      "2\n",
      "el importe total en sueldos es\n",
      "1200\n"
     ]
    }
   ],
   "source": [
    "x=1\n",
    "suma1=0\n",
    "suma2=0\n",
    "imp1=0\n",
    "imp2=0\n",
    "\n",
    "e=int(input(\"ingrese el numero de empleados de la empresa\"))\n",
    "while x<=e:\n",
    "    s=int(input(\"ingrese el sueldo del empleado\"))\n",
    "    if s>=100 and s<=300:\n",
    "        suma1=suma1+1\n",
    "        imp1=imp1+s\n",
    "    else:\n",
    "        suma2=suma2+1\n",
    "        imp2=imp2+s\n",
    "    x=x+1\n",
    "importe=imp1+imp2\n",
    "print(\"los empleados con sueldo entre 100 y 300 son\")\n",
    "print(suma1)\n",
    "print(\"los empleados con sueldos de mas de 300 son\")\n",
    "print(suma2)\n",
    "print(\"el importe total en sueldos es\")\n",
    "print(importe)"
   ]
  }
 ],
 "metadata": {
  "kernelspec": {
   "display_name": "Python 3",
   "language": "python",
   "name": "python3"
  },
  "language_info": {
   "codemirror_mode": {
    "name": "ipython",
    "version": 3
   },
   "file_extension": ".py",
   "mimetype": "text/x-python",
   "name": "python",
   "nbconvert_exporter": "python",
   "pygments_lexer": "ipython3",
   "version": "3.7.4"
  }
 },
 "nbformat": 4,
 "nbformat_minor": 2
}
