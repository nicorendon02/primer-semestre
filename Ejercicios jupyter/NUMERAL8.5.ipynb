{
 "cells": [
  {
   "cell_type": "markdown",
   "metadata": {},
   "source": [
    "###"
   ]
  },
  {
   "cell_type": "code",
   "execution_count": 2,
   "metadata": {},
   "outputs": [
    {
     "name": "stdout",
     "output_type": "stream",
     "text": [
      "ingrese el primer numero12\n",
      "ingrese el segundo numero45\n",
      "ingrese el tercer numero16\n",
      "No todos o ningun valor es menor a diez\n"
     ]
    }
   ],
   "source": [
    "num1=int(input(\"ingrese el primer numero\"))\n",
    "num2=int(input(\"ingrese el segundo numero\"))\n",
    "num3=int(input(\"ingrese el tercer numero\"))\n",
    "if num1<10 and num2<10 and num3<10:\n",
    "    print(\"Todos los números son menores a diez\")\n",
    "else:\n",
    "    print(\"No todos o ningun valor es menor a diez\")"
   ]
  }
 ],
 "metadata": {
  "kernelspec": {
   "display_name": "Python 3",
   "language": "python",
   "name": "python3"
  },
  "language_info": {
   "codemirror_mode": {
    "name": "ipython",
    "version": 3
   },
   "file_extension": ".py",
   "mimetype": "text/x-python",
   "name": "python",
   "nbconvert_exporter": "python",
   "pygments_lexer": "ipython3",
   "version": "3.7.4"
  }
 },
 "nbformat": 4,
 "nbformat_minor": 2
}
