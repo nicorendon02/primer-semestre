{
 "cells": [
  {
   "cell_type": "markdown",
   "metadata": {},
   "source": [
    "### DOS NOMBRES"
   ]
  },
  {
   "cell_type": "code",
   "execution_count": null,
   "metadata": {},
   "outputs": [],
   "source": [
    "nombre1=input(\"Ingrese el primer nombre:\")\n",
    "nombre2=input(\"Ingrese el segundo nombre:\")\n",
    "print(\"Listado alfabetico:\")\n",
    "if nombre1<nombre2:\n",
    "    print(nombre1)\n",
    "    print(nombre2)\n",
    "else:\n",
    "    print(nombre2)\n",
    "    print(nombre1)"
   ]
  }
 ],
 "metadata": {
  "kernelspec": {
   "display_name": "Python 3",
   "language": "python",
   "name": "python3"
  },
  "language_info": {
   "codemirror_mode": {
    "name": "ipython",
    "version": 3
   },
   "file_extension": ".py",
   "mimetype": "text/x-python",
   "name": "python",
   "nbconvert_exporter": "python",
   "pygments_lexer": "ipython3",
   "version": "3.7.4"
  }
 },
 "nbformat": 4,
 "nbformat_minor": 2
}
