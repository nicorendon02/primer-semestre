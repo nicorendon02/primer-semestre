{
 "cells": [
  {
   "cell_type": "markdown",
   "metadata": {},
   "source": [
    "### PROMEDIO DE LOS TURNOS"
   ]
  },
  {
   "cell_type": "code",
   "execution_count": 5,
   "metadata": {},
   "outputs": [
    {
     "name": "stdout",
     "output_type": "stream",
     "text": [
      "Ingrese edad de la mañana:5\n",
      "Ingrese edad de la mañana:10\n",
      "Ingrese edad de la mañana:15\n",
      "Ingrese edad de la mañana:20\n",
      "Ingrese edad de la mañana:25\n",
      "el promedio de edades de la mañana es\n",
      "15.0\n",
      "Ingrese edad de la tarde:5\n",
      "Ingrese edad de la tarde:10\n",
      "Ingrese edad de la tarde:15\n",
      "Ingrese edad de la tarde:20\n",
      "Ingrese edad de la tarde:30\n",
      "Ingrese edad de la tarde:40\n",
      "el promedio de edades de la tarde es\n",
      "20.0\n",
      "Ingrese edad de la noche:20\n",
      "Ingrese edad de la noche:30\n",
      "Ingrese edad de la noche:40\n",
      "Ingrese edad de la noche:50\n",
      "Ingrese edad de la noche:55\n",
      "Ingrese edad de la noche:60\n",
      "Ingrese edad de la noche:65\n",
      "Ingrese edad de la noche:70\n",
      "Ingrese edad de la noche:75\n",
      "Ingrese edad de la noche:80\n",
      "Ingrese edad de la noche:85\n",
      "el promedio de edades de la noche es\n",
      "57.27272727272727\n",
      "el promedio mayor es el de la noche\n"
     ]
    }
   ],
   "source": [
    "suma1=0\n",
    "suma2=0\n",
    "suma3=0\n",
    "\n",
    "for x in range(5):\n",
    "    edad=int(input(\"Ingrese edad de la mañana:\"))\n",
    "    suma1=suma1+edad\n",
    "\n",
    "prom1=suma1/5\n",
    "print(\"el promedio de edades de la mañana es\")\n",
    "print(prom1)\n",
    "    \n",
    "for x in range(6):\n",
    "    edad=int(input(\"Ingrese edad de la tarde:\"))\n",
    "    suma2=suma2+edad\n",
    "    \n",
    "prom2=suma2/6\n",
    "print(\"el promedio de edades de la tarde es\")\n",
    "print(prom2)\n",
    "\n",
    "for x in range(11):\n",
    "    edad=int(input(\"Ingrese edad de la noche:\"))\n",
    "    suma3=suma3+edad\n",
    "    \n",
    "prom3=suma3/11\n",
    "print(\"el promedio de edades de la noche es\")\n",
    "print(prom3)\n",
    "\n",
    "if prom1>prom2 and prom1>prom3:\n",
    "    print(\"el promedio mayor es el de la mañana\")\n",
    "else:\n",
    "    if prom2>prom1 and prom2>prom3:\n",
    "        print(\"el promedio mayor es el de la tarde\")\n",
    "    else:\n",
    "        print(\"el promedio mayor es el de la noche\")\n",
    "\n"
   ]
  }
 ],
 "metadata": {
  "kernelspec": {
   "display_name": "Python 3",
   "language": "python",
   "name": "python3"
  },
  "language_info": {
   "codemirror_mode": {
    "name": "ipython",
    "version": 3
   },
   "file_extension": ".py",
   "mimetype": "text/x-python",
   "name": "python",
   "nbconvert_exporter": "python",
   "pygments_lexer": "ipython3",
   "version": "3.7.4"
  }
 },
 "nbformat": 4,
 "nbformat_minor": 2
}
