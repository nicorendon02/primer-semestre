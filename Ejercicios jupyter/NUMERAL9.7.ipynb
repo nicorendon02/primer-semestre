{
 "cells": [
  {
   "cell_type": "markdown",
   "metadata": {},
   "source": [
    "### COBROS"
   ]
  },
  {
   "cell_type": "code",
   "execution_count": null,
   "metadata": {},
   "outputs": [],
   "source": [
    "n=int(input(\"Cuantos empleados tiene la empresa:\"))\n",
    "x=1\n",
    "conta1=0\n",
    "conta2=0\n",
    "gastos=0\n",
    "while x<=n:\n",
    "    sueldo=float(input(\"Ingrese el sueldo del empleado:\"))\n",
    "    if sueldo<=300:\n",
    "        conta1=conta1+1\n",
    "    else:\n",
    "        conta2=conta2+1\n",
    "    gastos=gastos+sueldo\n",
    "    x=x+1\n",
    "print(\"Cantidad de empleados con sueldos entre 100 y 300\")\n",
    "print(conta1)\n",
    "print(\"Cantidad de empleados con sueldos mayor a 300\")\n",
    "print(conta2)\n",
    "print(\"Gastos total de la empresa en sueldos\")\n",
    "print(gastos)"
   ]
  }
 ],
 "metadata": {
  "kernelspec": {
   "display_name": "Python 3",
   "language": "python",
   "name": "python3"
  },
  "language_info": {
   "codemirror_mode": {
    "name": "ipython",
    "version": 3
   },
   "file_extension": ".py",
   "mimetype": "text/x-python",
   "name": "python",
   "nbconvert_exporter": "python",
   "pygments_lexer": "ipython3",
   "version": "3.7.4"
  }
 },
 "nbformat": 4,
 "nbformat_minor": 2
}
