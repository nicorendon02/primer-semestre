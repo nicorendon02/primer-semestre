{
 "cells": [
  {
   "cell_type": "markdown",
   "metadata": {},
   "source": [
    "### SUMA DE ULTIMOS CINCO NUMEROS"
   ]
  },
  {
   "cell_type": "code",
   "execution_count": 6,
   "metadata": {},
   "outputs": [
    {
     "name": "stdout",
     "output_type": "stream",
     "text": [
      "Ingrese un valor:1\n",
      "Ingrese un valor:2\n",
      "Ingrese un valor:3\n",
      "Ingrese un valor:4\n",
      "Ingrese un valor:5\n",
      "Ingrese un valor:6\n",
      "Ingrese un valor:7\n",
      "Ingrese un valor:8\n",
      "Ingrese un valor:9\n",
      "Ingrese un valor:10\n",
      "La suma de los últimos 5 valores es\n",
      "40\n"
     ]
    }
   ],
   "source": [
    "suma=0\n",
    "for f in range(10):\n",
    "    valor=int(input(\"Ingrese un valor:\"))\n",
    "    if f>4:\n",
    "        suma=suma+valor\n",
    "print(\"La suma de los últimos 5 valores es\")\n",
    "print(suma)"
   ]
  }
 ],
 "metadata": {
  "kernelspec": {
   "display_name": "Python 3",
   "language": "python",
   "name": "python3"
  },
  "language_info": {
   "codemirror_mode": {
    "name": "ipython",
    "version": 3
   },
   "file_extension": ".py",
   "mimetype": "text/x-python",
   "name": "python",
   "nbconvert_exporter": "python",
   "pygments_lexer": "ipython3",
   "version": "3.7.4"
  }
 },
 "nbformat": 4,
 "nbformat_minor": 2
}
