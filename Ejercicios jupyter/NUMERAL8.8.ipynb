{
 "cells": [
  {
   "cell_type": "markdown",
   "metadata": {},
   "source": [
    "### SUELDO CON AUMENTO"
   ]
  },
  {
   "cell_type": "code",
   "execution_count": null,
   "metadata": {},
   "outputs": [],
   "source": [
    "sueldo=int(input(\"ingrese sueldo del empleado:\"))\n",
    "antiguedad=int(input(\"ingrese su antiguedad en años:\"))\n",
    "if sueldo<500 and antiguedad>10:\n",
    "    aumento=sueldo*0.20\n",
    "    sueldototal=sueldo+aumento\n",
    "    print(\"sueldo a pagar\")\n",
    "    print(sueldototal)\n",
    "else:\n",
    "    if sueldo<500:\n",
    "        aumento=sueldo*0.05\n",
    "        sueldototal=sueldo+aumento\n",
    "        print(\"sueldo a pagar\")\n",
    "        print(sueldototal)\n",
    "    else:\n",
    "        print(\"sueldo a pagar\")\n",
    "        print(sueldo)"
   ]
  }
 ],
 "metadata": {
  "kernelspec": {
   "display_name": "Python 3",
   "language": "python",
   "name": "python3"
  },
  "language_info": {
   "codemirror_mode": {
    "name": "ipython",
    "version": 3
   },
   "file_extension": ".py",
   "mimetype": "text/x-python",
   "name": "python",
   "nbconvert_exporter": "python",
   "pygments_lexer": "ipython3",
   "version": "3.7.4"
  }
 },
 "nbformat": 4,
 "nbformat_minor": 2
}
