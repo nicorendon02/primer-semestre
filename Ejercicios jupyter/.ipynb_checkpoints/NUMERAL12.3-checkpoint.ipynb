{
 "cells": [
  {
   "cell_type": "markdown",
   "metadata": {},
   "source": [
    "### OPCION SI"
   ]
  },
  {
   "cell_type": "code",
   "execution_count": 2,
   "metadata": {},
   "outputs": [
    {
     "name": "stdout",
     "output_type": "stream",
     "text": [
      "Ingrese un valor:13\n",
      "Desea cargar otro numero (si/no):15\n",
      "La suma de valores ingresados es\n",
      "13\n"
     ]
    }
   ],
   "source": [
    "opcion=\"si\"\n",
    "suma=0\n",
    "while opcion==\"si\":\n",
    "    valor=int(input(\"Ingrese un valor:\"))\n",
    "    suma=suma+valor\n",
    "    opcion=input(\"Desea cargar otro numero (si/no):\")\n",
    "print(\"La suma de valores ingresados es\")\n",
    "print(suma)"
   ]
  }
 ],
 "metadata": {
  "kernelspec": {
   "display_name": "Python 3",
   "language": "python",
   "name": "python3"
  },
  "language_info": {
   "codemirror_mode": {
    "name": "ipython",
    "version": 3
   },
   "file_extension": ".py",
   "mimetype": "text/x-python",
   "name": "python",
   "nbconvert_exporter": "python",
   "pygments_lexer": "ipython3",
   "version": "3.7.4"
  }
 },
 "nbformat": 4,
 "nbformat_minor": 2
}
