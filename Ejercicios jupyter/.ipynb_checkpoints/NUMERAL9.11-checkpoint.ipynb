{
 "cells": [
  {
   "cell_type": "markdown",
   "metadata": {},
   "source": [
    "### PARES E IMPARES"
   ]
  },
  {
   "cell_type": "code",
   "execution_count": null,
   "metadata": {},
   "outputs": [],
   "source": [
    "x=1\n",
    "pares=0\n",
    "impares=0\n",
    "n=int(input(\"Cuantos números ingresará:\"))\n",
    "while x<=n:\n",
    "    valor=int(input(\"Ingrese el valor:\"))\n",
    "    if valor%2==0:\n",
    "        pares=pares+1\n",
    "    else:\n",
    "        impares=impares+1\n",
    "    x=x+1\n",
    "print(\"Cantadad de pares\")\n",
    "print(pares)\n",
    "print(\"Cantidad de impares\")\n",
    "print(impares)"
   ]
  }
 ],
 "metadata": {
  "kernelspec": {
   "display_name": "Python 3",
   "language": "python",
   "name": "python3"
  },
  "language_info": {
   "codemirror_mode": {
    "name": "ipython",
    "version": 3
   },
   "file_extension": ".py",
   "mimetype": "text/x-python",
   "name": "python",
   "nbconvert_exporter": "python",
   "pygments_lexer": "ipython3",
   "version": "3.7.4"
  }
 },
 "nbformat": 4,
 "nbformat_minor": 2
}
