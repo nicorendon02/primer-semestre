{
 "cells": [
  {
   "cell_type": "markdown",
   "metadata": {},
   "source": [
    "### CARGA DE PRECIO Y CANTIDAD"
   ]
  },
  {
   "cell_type": "code",
   "execution_count": 1,
   "metadata": {},
   "outputs": [
    {
     "name": "stdout",
     "output_type": "stream",
     "text": [
      "Ingrese el precio del producto:12000\n",
      "Ingrese la cantidad de productos a llevar:2\n",
      "El valor total a pagar es\n",
      "24000\n"
     ]
    }
   ],
   "source": [
    "precio=int(input(\"Ingrese el precio del producto:\"))\n",
    "cantidad=int(input(\"Ingrese la cantidad de productos a llevar:\"))\n",
    "total=precio*cantidad\n",
    "print(\"El valor total a pagar es\")\n",
    "print(total)"
   ]
  }
 ],
 "metadata": {
  "kernelspec": {
   "display_name": "Python 3",
   "language": "python",
   "name": "python3"
  },
  "language_info": {
   "codemirror_mode": {
    "name": "ipython",
    "version": 3
   },
   "file_extension": ".py",
   "mimetype": "text/x-python",
   "name": "python",
   "nbconvert_exporter": "python",
   "pygments_lexer": "ipython3",
   "version": "3.7.4"
  }
 },
 "nbformat": 4,
 "nbformat_minor": 2
}
