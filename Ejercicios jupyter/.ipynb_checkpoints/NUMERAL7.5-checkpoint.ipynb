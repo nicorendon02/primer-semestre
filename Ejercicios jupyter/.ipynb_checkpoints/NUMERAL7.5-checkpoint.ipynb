{
 "cells": [
  {
   "cell_type": "markdown",
   "metadata": {},
   "source": [
    "### NIVEL DEL ESTUDIANTE"
   ]
  },
  {
   "cell_type": "code",
   "execution_count": null,
   "metadata": {},
   "outputs": [],
   "source": [
    "preguntas=int(input(\"ingrese el numero de preguntas de la prueba\"))\n",
    "correctas=int(input(\"ingrese la cantidad de respuestas correctas\"))\n",
    "porcentaje=correctas * 100 / preguntas\n",
    "if porcentaje>=90:\n",
    "    print(\"nivel máximo\")\n",
    "else:\n",
    "    if porcentaje>=75:\n",
    "        print(\"nivel medio\")\n",
    "    else:\n",
    "        if porcentaje>=50:\n",
    "            print(\"nivel regular\")\n",
    "        else:\n",
    "            print(\"fuera de nivel\")\n"
   ]
  }
 ],
 "metadata": {
  "kernelspec": {
   "display_name": "Python 3",
   "language": "python",
   "name": "python3"
  },
  "language_info": {
   "codemirror_mode": {
    "name": "ipython",
    "version": 3
   },
   "file_extension": ".py",
   "mimetype": "text/x-python",
   "name": "python",
   "nbconvert_exporter": "python",
   "pygments_lexer": "ipython3",
   "version": "3.7.4"
  }
 },
 "nbformat": 4,
 "nbformat_minor": 2
}
