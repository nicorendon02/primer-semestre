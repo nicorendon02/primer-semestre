{
 "cells": [
  {
   "cell_type": "markdown",
   "metadata": {},
   "source": [
    "### SUELDO MENSUAL"
   ]
  },
  {
   "cell_type": "code",
   "execution_count": 1,
   "metadata": {},
   "outputs": [
    {
     "name": "stdout",
     "output_type": "stream",
     "text": [
      "ingrese la cantidad de horas trabajadas en el mes30\n",
      "ingrese el pago por hora12000\n",
      "el sueldo mensual es\n",
      "360000\n"
     ]
    }
   ],
   "source": [
    "num1=int(input(\"ingrese la cantidad de horas trabajadas en el mes\"))\n",
    "num2=int(input(\"ingrese el pago por hora\"))\n",
    "producto=num1*num2\n",
    "print(\"el sueldo mensual es\")\n",
    "print(producto)"
   ]
  }
 ],
 "metadata": {
  "kernelspec": {
   "display_name": "Python 3",
   "language": "python",
   "name": "python3"
  },
  "language_info": {
   "codemirror_mode": {
    "name": "ipython",
    "version": 3
   },
   "file_extension": ".py",
   "mimetype": "text/x-python",
   "name": "python",
   "nbconvert_exporter": "python",
   "pygments_lexer": "ipython3",
   "version": "3.7.4"
  }
 },
 "nbformat": 4,
 "nbformat_minor": 2
}
