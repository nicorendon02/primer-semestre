{
 "cells": [
  {
   "cell_type": "markdown",
   "metadata": {},
   "source": [
    "# FUNDAMENTOS DE PROGRAMACION"
   ]
  },
  {
   "cell_type": "markdown",
   "metadata": {},
   "source": [
    "## ESTRUCTURAS BASICAS DE PROGRAMACION"
   ]
  },
  {
   "cell_type": "markdown",
   "metadata": {},
   "source": [
    "### SEGUNDO PROGRAMA"
   ]
  },
  {
   "cell_type": "code",
   "execution_count": 2,
   "metadata": {},
   "outputs": [
    {
     "name": "stdout",
     "output_type": "stream",
     "text": [
      "ingrese primer valor5\n",
      "ingrese segundo valor2\n",
      "la resta de los dos valores es\n",
      "3\n",
      "la division de los dos valores es\n",
      "2.5\n"
     ]
    }
   ],
   "source": [
    "num1=int(input(\"ingrese primer valor\"))\n",
    "num2=int(input(\"ingrese segundo valor\"))\n",
    "resta=num1-num2\n",
    "division=num1/num2\n",
    "print(\"la resta de los dos valores es\")\n",
    "print(resta)\n",
    "print(\"la division de los dos valores es\")\n",
    "print(division)"
   ]
  }
 ],
 "metadata": {
  "kernelspec": {
   "display_name": "Python 3",
   "language": "python",
   "name": "python3"
  },
  "language_info": {
   "codemirror_mode": {
    "name": "ipython",
    "version": 3
   },
   "file_extension": ".py",
   "mimetype": "text/x-python",
   "name": "python",
   "nbconvert_exporter": "python",
   "pygments_lexer": "ipython3",
   "version": "3.7.4"
  }
 },
 "nbformat": 4,
 "nbformat_minor": 2
}
