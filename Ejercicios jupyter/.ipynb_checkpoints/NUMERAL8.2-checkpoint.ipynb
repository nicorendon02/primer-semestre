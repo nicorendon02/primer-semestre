{
 "cells": [
  {
   "cell_type": "markdown",
   "metadata": {},
   "source": [
    "### CALCULO DEL TRIMESTRE"
   ]
  },
  {
   "cell_type": "code",
   "execution_count": null,
   "metadata": {},
   "outputs": [],
   "source": [
    "dia=int(input(\"Ingrese nro de día:\"))\n",
    "mes=int(input(\"Ingrese nro de mes:\"))\n",
    "año=int(input(\"Ingrese nro de año:\"))\n",
    "if mes==1 or mes==2 or mes==3:\n",
    "    print(\"Corresponde al primer trimestre\")"
   ]
  }
 ],
 "metadata": {
  "kernelspec": {
   "display_name": "Python 3",
   "language": "python",
   "name": "python3"
  },
  "language_info": {
   "codemirror_mode": {
    "name": "ipython",
    "version": 3
   },
   "file_extension": ".py",
   "mimetype": "text/x-python",
   "name": "python",
   "nbconvert_exporter": "python",
   "pygments_lexer": "ipython3",
   "version": "3.7.4"
  }
 },
 "nbformat": 4,
 "nbformat_minor": 2
}
