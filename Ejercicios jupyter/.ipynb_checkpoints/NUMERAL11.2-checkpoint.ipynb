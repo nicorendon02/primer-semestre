{
 "cells": [
  {
   "cell_type": "markdown",
   "metadata": {},
   "source": [
    "### SUMA CON COMENTARIOS"
   ]
  },
  {
   "cell_type": "code",
   "execution_count": null,
   "metadata": {},
   "outputs": [],
   "source": [
    "\"\"\"\n",
    "Realizar un programa que solicite la carga de valores enteros por teclado y los sume.\n",
    "Finalizar la carga al ingresar el valor -1.\n",
    "\"\"\"\n",
    "\n",
    "suma=0\n",
    "valor=int(input(\"Ingrese valor (-1 finaliza):\"))     # se carga el primer valor antes del while\n",
    "while valor!=-1:\n",
    "    suma=suma+valor\n",
    "    valor=int(input(\"Ingrese valor(-1 finaliza):\"))  # se cargar todos los otros valores dentro del while\n",
    "print(\"La suma de los valores ingresados es\")\n",
    "print(suma)"
   ]
  }
 ],
 "metadata": {
  "kernelspec": {
   "display_name": "Python 3",
   "language": "python",
   "name": "python3"
  },
  "language_info": {
   "codemirror_mode": {
    "name": "ipython",
    "version": 3
   },
   "file_extension": ".py",
   "mimetype": "text/x-python",
   "name": "python",
   "nbconvert_exporter": "python",
   "pygments_lexer": "ipython3",
   "version": "3.7.4"
  }
 },
 "nbformat": 4,
 "nbformat_minor": 2
}
