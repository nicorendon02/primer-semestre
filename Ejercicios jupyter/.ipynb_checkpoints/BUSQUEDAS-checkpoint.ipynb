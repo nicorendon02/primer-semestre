{
 "cells": [
  {
   "cell_type": "markdown",
   "metadata": {},
   "source": [
    "### Programadores: Nicolás Rendón Arias, Oscar Julián Toro Delgado y Manuel Alejandro Bermúdez"
   ]
  },
  {
   "cell_type": "markdown",
   "metadata": {},
   "source": [
    "### 1.1 BÚSQUEDA SECUENCIAL"
   ]
  },
  {
   "cell_type": "code",
   "execution_count": null,
   "metadata": {},
   "outputs": [],
   "source": [
    "def busquedaSecuencial(lisVal,val): #función de busquedalineal, recibe la lista y el elemento que estamos buscando\n",
    "    i=0  #variable que almacenará la pos del elemento\n",
    "    for x in lisVal:   #ciclo para la búsqueda\n",
    "        if (x == val): #si 'x' es igual al elemento que estamos buscando...\n",
    "            return i  #se retorna la posicion de ese elemento\n",
    "        i=i+1  #contador de vueltas\n",
    "    return -1  #retorna '-1' si no encuentra el elemento\n",
    "\n",
    "def main():  #definir función principal \"main\"\n",
    "    lisVal=[11,22,33,44,55,66,77,88,99]  #se define la lista\n",
    "    val=int(input('Ingrese el valor que quiere buscar: ')) #se digita el valor que se quiere buscar\n",
    "    pos=busquedaSecuencial(lisVal,val) #metodo de busqueda lineal al que se le pasa la lista y el elemento que estamos buscando, y retorna la posición\n",
    "    if (pos>-1): #si posición es mayor que -1...\n",
    "        print('La posición es: ',pos,'(True)') #imprime la posición del elemento encontrado\n",
    "    else:   #sino...\n",
    "        print('El elemento no se encuentra en la lista','(False)') #aviso que indica que no se encontró el elemento\n",
    "\n",
    "main()  #se llama a la función principal"
   ]
  },
  {
   "cell_type": "markdown",
   "metadata": {},
   "source": [
    "### 1.2 BÚSQUEDA BINARIA"
   ]
  },
  {
   "cell_type": "code",
   "execution_count": null,
   "metadata": {},
   "outputs": [],
   "source": [
    "def busquedaBinaria(unaLista, item): #definimos la funcion de la busqueda binaria\n",
    "    if len(unaLista) == 0: #si la cantidad de elementos de la lista es igual a cero\n",
    "        return False #retorna \"false\"\n",
    "    else:   #sino...\n",
    "        punMed = len(unaLista)//2 #punto medio es igual a la cantidad de elementos de la lista dividida 2\n",
    "        if unaLista[punMed]==item: #si el punto medio es igual al elemento que se esta buscando\n",
    "          return True #retorna \"true\"\n",
    "        else:\n",
    "          if item<unaLista[punMed]: #si el elemento que se esta buscando es menor al punto medio \n",
    "            return busquedaBinaria(unaLista[:punMed],item) #se busca en los valores menores al punto medio hasta encontrar el elemento\n",
    "          else: #si el elemento que se esta buscando es mayor al punto medio\n",
    "            return busquedaBinaria(unaLista[punMed+1:],item) #se busca en los valores mayores al punto medio hasta encontrar el elemento\n",
    "\n",
    "listaPrueba = [0, 1, 2, 8, 13, 17, 19, 32, 42] #lista que contiene los valores numericos\n",
    "val=int(input('Ingrese el numero a buscar: ')) #se digita el valor que se quiere buscar\n",
    "print(busquedaBinaria(listaPrueba, val)) # imprime \"true\" si el valor ingresado se encuentra en la lista o \"false\" si no está\n",
    "\n"
   ]
  }
 ],
 "metadata": {
  "kernelspec": {
   "display_name": "Python 3",
   "language": "python",
   "name": "python3"
  },
  "language_info": {
   "codemirror_mode": {
    "name": "ipython",
    "version": 3
   },
   "file_extension": ".py",
   "mimetype": "text/x-python",
   "name": "python",
   "nbconvert_exporter": "python",
   "pygments_lexer": "ipython3",
   "version": "3.7.4"
  }
 },
 "nbformat": 4,
 "nbformat_minor": 2
}
