{
 "cells": [
  {
   "cell_type": "markdown",
   "metadata": {},
   "source": [
    "### NOTAS"
   ]
  },
  {
   "cell_type": "code",
   "execution_count": 6,
   "metadata": {},
   "outputs": [
    {
     "name": "stdout",
     "output_type": "stream",
     "text": [
      "Ingrese nota:5.0\n",
      "Ingrese nota:3.5\n",
      "Ingrese nota:3.8\n",
      "Ingrese nota:1.9\n",
      "Ingrese nota:4.7\n",
      "el promedio del grupo es:\n",
      "3.7800000000000002\n",
      "Cantidad de alumnos con notas mayores o iguales a 3\n",
      "4\n",
      "Cantidad de alumons con notas menores a 3\n",
      "1\n"
     ]
    }
   ],
   "source": [
    "conRep=1\n",
    "contMayTres=0\n",
    "contMenTres=0\n",
    "sumNot=0\n",
    "while conRep<=5:\n",
    "    notDef=float(input(\"Ingrese nota:\"))\n",
    "    sumNot=sumNot+notDef\n",
    "    if notDef>=3:\n",
    "        contMayTres=contMayTres+1\n",
    "    else:\n",
    "        contMenTres=contMenTres+1\n",
    "    conRep=conRep+1\n",
    "promDef=sumNot/5\n",
    "print(\"el promedio del grupo es:\")\n",
    "print(promDef)\n",
    "print(\"Cantidad de alumnos con notas mayores o iguales a 3\")\n",
    "print(contMayTres)\n",
    "print(\"Cantidad de alumons con notas menores a 3\")\n",
    "print(contMenTres)"
   ]
  },
  {
   "cell_type": "code",
   "execution_count": 5,
   "metadata": {},
   "outputs": [
    {
     "name": "stdout",
     "output_type": "stream",
     "text": [
      "Ingrese nota:1\n",
      "Ingrese nota:5\n",
      "Ingrese nota:1\n",
      "Ingrese nota:4\n",
      "Ingrese nota:3\n",
      "el promedio del grupo es:\n",
      "2.8\n",
      "Cantidad de alumnos con notas mayores o iguales a 3\n",
      "3\n",
      "Cantidad de alumons con notas menores a 7\n",
      "2\n"
     ]
    }
   ],
   "source": [
    "conRep=1\n",
    "contMayTres=0\n",
    "contMenTres=0\n",
    "sumNot=0\n",
    "while conRep<=5:\n",
    "    notDef=int(input(\"Ingrese nota:\"))\n",
    "    sumNot=sumNot+notDef\n",
    "    if notDef>=3:\n",
    "        contMayTres=contMayTres+1\n",
    "    else:\n",
    "        contMenTres=contMenTres+1\n",
    "    conRep=conRep+1\n",
    "promDef=sumNot/5\n",
    "print(\"el promedio del grupo es:\")\n",
    "print(promDef)\n",
    "print(\"Cantidad de alumnos con notas mayores o iguales a 3\")\n",
    "print(contMayTres)\n",
    "print(\"Cantidad de alumons con notas menores a 3\")\n",
    "print(contMenTres)"
   ]
  },
  {
   "cell_type": "code",
   "execution_count": null,
   "metadata": {},
   "outputs": [],
   "source": [
    "sumAlt=0\n",
    "promAlt=0\n",
    "conRep=1\n",
    "canPer=int(input(\"Ingrese cuantas personas:\"))\n",
    "\n",
    "while conRep<=canPer:\n",
    "    altPer=float(input(\"Ingrese altura: \"))\n",
    "    sumAlt=sumAlt+altPer\n",
    "    conRep=conRep+1\n",
    "promAlt=sumAlt/canPer\n",
    "print(\"el promedio de altura es: \"+str(promAlt))"
   ]
  }
 ],
 "metadata": {
  "kernelspec": {
   "display_name": "Python 3",
   "language": "python",
   "name": "python3"
  }
 },
 "nbformat": 4,
 "nbformat_minor": 2
}
