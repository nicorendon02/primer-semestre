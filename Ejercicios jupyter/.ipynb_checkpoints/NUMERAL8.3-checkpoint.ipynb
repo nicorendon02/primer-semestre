{
 "cells": [
  {
   "cell_type": "markdown",
   "metadata": {},
   "source": [
    "### NAVIDAD"
   ]
  },
  {
   "cell_type": "code",
   "execution_count": 2,
   "metadata": {},
   "outputs": [
    {
     "name": "stdout",
     "output_type": "stream",
     "text": [
      "ingrese el numero del dia25\n",
      "ingrese el numero del mes12\n",
      "ingrese el numero del año2020\n",
      "es navidad\n"
     ]
    }
   ],
   "source": [
    "num1=int(input(\"ingrese el numero del dia\"))\n",
    "num2=int(input(\"ingrese el numero del mes\"))\n",
    "num3=int(input(\"ingrese el numero del año\"))\n",
    "if num1==25 and num2==12:\n",
    "    print(\"es navidad\")\n",
    "else:\n",
    "    print(\"no es navidad\")"
   ]
  }
 ],
 "metadata": {
  "kernelspec": {
   "display_name": "Python 3",
   "language": "python",
   "name": "python3"
  },
  "language_info": {
   "codemirror_mode": {
    "name": "ipython",
    "version": 3
   },
   "file_extension": ".py",
   "mimetype": "text/x-python",
   "name": "python",
   "nbconvert_exporter": "python",
   "pygments_lexer": "ipython3",
   "version": "3.7.4"
  }
 },
 "nbformat": 4,
 "nbformat_minor": 2
}
