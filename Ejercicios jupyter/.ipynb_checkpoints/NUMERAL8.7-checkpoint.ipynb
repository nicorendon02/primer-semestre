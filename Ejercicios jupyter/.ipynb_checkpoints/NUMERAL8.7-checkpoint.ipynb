{
 "cells": [
  {
   "cell_type": "markdown",
   "metadata": {},
   "source": [
    "### CUADRANTES"
   ]
  },
  {
   "cell_type": "code",
   "execution_count": null,
   "metadata": {},
   "outputs": [],
   "source": [
    "x=int(input(\"Ingrese coordenada x:\"))\n",
    "y=int(input(\"Ingrese coordenada y:\"))\n",
    "if x>0 and y>0:\n",
    "    print(\"Se encuentra en el primer cuadrante\")\n",
    "else:\n",
    "    if x<0 and y>0:\n",
    "        print(\"Se encuentra en el segundo cuadrante\")\n",
    "    else:\n",
    "        if x<0 and y<0:\n",
    "            print(\"Se encuentra en el tercer cuadrante\")\n",
    "        else:\n",
    "            print(\"Se encuentra en el cuarto cuadrante\")"
   ]
  }
 ],
 "metadata": {
  "kernelspec": {
   "display_name": "Python 3",
   "language": "python",
   "name": "python3"
  },
  "language_info": {
   "codemirror_mode": {
    "name": "ipython",
    "version": 3
   },
   "file_extension": ".py",
   "mimetype": "text/x-python",
   "name": "python",
   "nbconvert_exporter": "python",
   "pygments_lexer": "ipython3",
   "version": "3.7.4"
  }
 },
 "nbformat": 4,
 "nbformat_minor": 2
}
