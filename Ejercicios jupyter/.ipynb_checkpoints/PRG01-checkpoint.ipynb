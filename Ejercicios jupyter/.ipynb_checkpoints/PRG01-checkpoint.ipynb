{
 "cells": [
  {
   "cell_type": "markdown",
   "metadata": {},
   "source": [
    "# FUNDAMENTOS DE PROGRAMACION"
   ]
  },
  {
   "cell_type": "markdown",
   "metadata": {},
   "source": [
    "## ESTRUCTURAS BASICAS DE PROGRAMACION"
   ]
  },
  {
   "cell_type": "markdown",
   "metadata": {},
   "source": [
    "### PRIMER PROGRAMA"
   ]
  },
  {
   "cell_type": "code",
   "execution_count": 1,
   "metadata": {},
   "outputs": [
    {
     "name": "stdout",
     "output_type": "stream",
     "text": [
      "ingrese primer valor5\n",
      "ingrese segundo valor5\n",
      "la suma de los valores es\n",
      "10\n",
      "el producto de los valores es\n",
      "25\n"
     ]
    }
   ],
   "source": [
    "num1=int(input(\"ingrese primer valor\"))\n",
    "num2=int(input(\"ingrese segundo valor\"))\n",
    "suma=num1+num2\n",
    "producto=num1*num2\n",
    "print(\"la suma de los valores es\")\n",
    "print(suma)\n",
    "print(\"el producto de los valores es\")\n",
    "print(producto)"
   ]
  }
 ],
 "metadata": {
  "kernelspec": {
   "display_name": "Python 3",
   "language": "python",
   "name": "python3"
  },
  "language_info": {
   "codemirror_mode": {
    "name": "ipython",
    "version": 3
   },
   "file_extension": ".py",
   "mimetype": "text/x-python",
   "name": "python",
   "nbconvert_exporter": "python",
   "pygments_lexer": "ipython3",
   "version": "3.7.4"
  }
 },
 "nbformat": 4,
 "nbformat_minor": 2
}
