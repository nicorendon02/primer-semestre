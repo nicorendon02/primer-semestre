{
 "cells": [
  {
   "cell_type": "markdown",
   "metadata": {},
   "source": [
    "### SUMA CON COMENTARIOS II"
   ]
  },
  {
   "cell_type": "code",
   "execution_count": null,
   "metadata": {},
   "outputs": [],
   "source": [
    "#Programa: Carga de 10 Numeros\n",
    "#Programador: Nicolás Rendón\n",
    "#Fecha de última modificación: 08/02/2020\n",
    "\n",
    "suma=0.0\n",
    "for x in range(10):\n",
    "    valor=float(input(\"Ingrese valor:\"))\n",
    "    suma=suma+valor\n",
    "print(\"La suma de los 10 numeros es\")\n",
    "print(suma)"
   ]
  }
 ],
 "metadata": {
  "kernelspec": {
   "display_name": "Python 3",
   "language": "python",
   "name": "python3"
  },
  "language_info": {
   "codemirror_mode": {
    "name": "ipython",
    "version": 3
   },
   "file_extension": ".py",
   "mimetype": "text/x-python",
   "name": "python",
   "nbconvert_exporter": "python",
   "pygments_lexer": "ipython3",
   "version": "3.7.4"
  }
 },
 "nbformat": 4,
 "nbformat_minor": 2
}
