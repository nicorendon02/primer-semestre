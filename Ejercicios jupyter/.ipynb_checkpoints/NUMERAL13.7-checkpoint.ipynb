{
 "cells": [
  {
   "cell_type": "markdown",
   "metadata": {},
   "source": [
    "### CLAVE LIMITADA"
   ]
  },
  {
   "cell_type": "code",
   "execution_count": 3,
   "metadata": {},
   "outputs": [
    {
     "name": "stdout",
     "output_type": "stream",
     "text": [
      "ingrese su clave de entre 10 y 20 caracteresaaaaaaaaaaqqqqqqqqqqq\n",
      "error, tu clave no esta dentro de el rango de caracteres\n"
     ]
    }
   ],
   "source": [
    "c=input(\"ingrese su clave de entre 10 y 20 caracteres\")\n",
    "if len(c)<10 or len(c)>20:\n",
    "    print(\"error, tu clave no esta dentro de el rango de caracteres\")\n",
    "else:\n",
    "    print(\"clave almacenada\")"
   ]
  }
 ],
 "metadata": {
  "kernelspec": {
   "display_name": "Python 3",
   "language": "python",
   "name": "python3"
  },
  "language_info": {
   "codemirror_mode": {
    "name": "ipython",
    "version": 3
   },
   "file_extension": ".py",
   "mimetype": "text/x-python",
   "name": "python",
   "nbconvert_exporter": "python",
   "pygments_lexer": "ipython3",
   "version": "3.7.4"
  }
 },
 "nbformat": 4,
 "nbformat_minor": 2
}
