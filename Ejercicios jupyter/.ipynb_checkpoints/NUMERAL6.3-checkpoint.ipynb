{
 "cells": [
  {
   "cell_type": "markdown",
   "metadata": {},
   "source": [
    "### DECISIONES"
   ]
  },
  {
   "cell_type": "code",
   "execution_count": 1,
   "metadata": {},
   "outputs": [
    {
     "name": "stdout",
     "output_type": "stream",
     "text": [
      "ingrese el primer numero2\n",
      "ingrese el segundo numero5\n",
      "el producto de los numeros es\n",
      "10\n",
      "la division de los numeros es\n",
      "0.4\n"
     ]
    }
   ],
   "source": [
    "num1=int(input(\"ingrese el primer numero\"))\n",
    "num2=int(input(\"ingrese el segundo numero\"))\n",
    "suma=num1+num2\n",
    "diferencia=num1-num2\n",
    "producto=num1*num2\n",
    "division=num1/num2\n",
    "if num1>num2:\n",
    "    print (\"la suma de los numeros es\")\n",
    "    print(suma)\n",
    "    print(\"la diferencia de los numeros es\")\n",
    "    print(diferencia)\n",
    "else:\n",
    "    print(\"el producto de los numeros es\")\n",
    "    print(producto)\n",
    "    print(\"la division de los numeros es\")\n",
    "    print(division)"
   ]
  }
 ],
 "metadata": {
  "kernelspec": {
   "display_name": "Python 3",
   "language": "python",
   "name": "python3"
  },
  "language_info": {
   "codemirror_mode": {
    "name": "ipython",
    "version": 3
   },
   "file_extension": ".py",
   "mimetype": "text/x-python",
   "name": "python",
   "nbconvert_exporter": "python",
   "pygments_lexer": "ipython3",
   "version": "3.7.4"
  }
 },
 "nbformat": 4,
 "nbformat_minor": 2
}
