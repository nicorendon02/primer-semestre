{
 "cells": [
  {
   "cell_type": "markdown",
   "metadata": {},
   "source": [
    "### SUPERFICIE DE TRIANGULOS"
   ]
  },
  {
   "cell_type": "code",
   "execution_count": null,
   "metadata": {},
   "outputs": [],
   "source": [
    "n=int(input(\"Cuantos triángulos procesará:\"))\n",
    "cantidad=0\n",
    "for x in range(n):\n",
    "    basetri=int(input(\"Ingrese el valor de la base:\"))\n",
    "    altura=int(input(\"Ingrese el valor de la altura:\"))\n",
    "    superficie=basetri*altura/2\n",
    "    print(\"La superficie es\")\n",
    "    print(superficie)\n",
    "    if superficie>12:\n",
    "        cantidad=cantidad+1\n",
    "print(\"La cantidad de triángulos con superficie superior a 12 son\")\n",
    "print(cantidad)\n"
   ]
  }
 ],
 "metadata": {
  "kernelspec": {
   "display_name": "Python 3",
   "language": "python",
   "name": "python3"
  },
  "language_info": {
   "codemirror_mode": {
    "name": "ipython",
    "version": 3
   },
   "file_extension": ".py",
   "mimetype": "text/x-python",
   "name": "python",
   "nbconvert_exporter": "python",
   "pygments_lexer": "ipython3",
   "version": "3.7.4"
  }
 },
 "nbformat": 4,
 "nbformat_minor": 2
}
