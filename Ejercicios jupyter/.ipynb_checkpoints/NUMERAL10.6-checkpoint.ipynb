{
 "cells": [
  {
   "cell_type": "markdown",
   "metadata": {},
   "source": [
    "### MULTIPLOS DE 3 Y DE 5"
   ]
  },
  {
   "cell_type": "code",
   "execution_count": null,
   "metadata": {},
   "outputs": [],
   "source": [
    "mul3=0\n",
    "mul5=0\n",
    "for f in range(10):\n",
    "    valor=int(input(\"Ingrese un valor:\"))\n",
    "    if valor%3==0:\n",
    "        mul3=mul3+1\n",
    "    if valor%5==0:\n",
    "        mul5=mul5+1\n",
    "print(\"Cantidad de valores ingresados múltiplos de 3\")\n",
    "print(mul3)\n",
    "print(\"Cantidad de valores ingresados múltiplos de 5\")\n",
    "print(mul5)"
   ]
  }
 ],
 "metadata": {
  "kernelspec": {
   "display_name": "Python 3",
   "language": "python",
   "name": "python3"
  },
  "language_info": {
   "codemirror_mode": {
    "name": "ipython",
    "version": 3
   },
   "file_extension": ".py",
   "mimetype": "text/x-python",
   "name": "python",
   "nbconvert_exporter": "python",
   "pygments_lexer": "ipython3",
   "version": "3.7.4"
  }
 },
 "nbformat": 4,
 "nbformat_minor": 2
}
