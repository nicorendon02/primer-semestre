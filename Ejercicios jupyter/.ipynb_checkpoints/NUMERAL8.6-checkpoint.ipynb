{
 "cells": [
  {
   "cell_type": "markdown",
   "metadata": {},
   "source": [
    "### MENOR A DIEZ"
   ]
  },
  {
   "cell_type": "code",
   "execution_count": 1,
   "metadata": {},
   "outputs": [
    {
     "name": "stdout",
     "output_type": "stream",
     "text": [
      "ingrese primer valor8\n",
      "ingrese segundo valor7\n",
      "ingrese tercer valor6\n",
      "Alguno de los números es menor a diez\n"
     ]
    }
   ],
   "source": [
    "num1=int(input(\"ingrese primer valor\"))\n",
    "num2=int(input(\"ingrese segundo valor\"))\n",
    "num3=int(input(\"ingrese tercer valor\"))\n",
    "if num1<10 and num2<10 and num3<10:\n",
    "    print(\"Alguno de los números es menor a diez\")\n",
    "else:\n",
    "    print(\"Ningun valor es menor a diez\")"
   ]
  }
 ],
 "metadata": {
  "kernelspec": {
   "display_name": "Python 3",
   "language": "python",
   "name": "python3"
  },
  "language_info": {
   "codemirror_mode": {
    "name": "ipython",
    "version": 3
   },
   "file_extension": ".py",
   "mimetype": "text/x-python",
   "name": "python",
   "nbconvert_exporter": "python",
   "pygments_lexer": "ipython3",
   "version": "3.7.4"
  }
 },
 "nbformat": 4,
 "nbformat_minor": 2
}
