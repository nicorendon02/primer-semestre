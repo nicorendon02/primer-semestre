{
 "cells": [
  {
   "cell_type": "markdown",
   "metadata": {},
   "source": [
    "### QUE TIPO DE TRIANGULO ES"
   ]
  },
  {
   "cell_type": "code",
   "execution_count": null,
   "metadata": {},
   "outputs": [],
   "source": [
    "cant1=0\n",
    "cant2=0\n",
    "cant3=0\n",
    "n=int(input(\"Ingrese la cantidad de triángulos:\"))\n",
    "for f in range(n):\n",
    "    lado1=int(input(\"Ingrese lado 1:\"))\n",
    "    lado2=int(input(\"Ingrese lado 2:\"))\n",
    "    lado3=int(input(\"Ingrese lado 3:\"))\n",
    "    if lado1==lado2 and lado1==lado3:\n",
    "        print(\"Es un triángulo equilatero.\")\n",
    "        cant1=cant1+1\n",
    "    else:\n",
    "        if lado1==lado2 or lado1==lado2 or lado2==lado3:\n",
    "            print(\"Es un triángulo isósceles.\")\n",
    "            cant2=cant2+1\n",
    "        else:\n",
    "            print(\"Es un triángulo escaleno.\")\n",
    "            cant3=cant3+1\n",
    "\n",
    "print(\"Cantidad de triángulos equilateros:\")\n",
    "print(cant1)\n",
    "print(\"Cantidad de triángulos isósceles:\")\n",
    "print(cant2)\n",
    "print(\"Cantidad de triángulos escalenos:\")\n",
    "print(cant3)"
   ]
  }
 ],
 "metadata": {
  "kernelspec": {
   "display_name": "Python 3",
   "language": "python",
   "name": "python3"
  },
  "language_info": {
   "codemirror_mode": {
    "name": "ipython",
    "version": 3
   },
   "file_extension": ".py",
   "mimetype": "text/x-python",
   "name": "python",
   "nbconvert_exporter": "python",
   "pygments_lexer": "ipython3",
   "version": "3.7.4"
  }
 },
 "nbformat": 4,
 "nbformat_minor": 2
}
