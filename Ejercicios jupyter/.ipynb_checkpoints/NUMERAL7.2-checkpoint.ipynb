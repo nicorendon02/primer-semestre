{
 "cells": [
  {
   "cell_type": "markdown",
   "metadata": {},
   "source": [
    "### EL MAYOR DE TRES NUMEROS"
   ]
  },
  {
   "cell_type": "code",
   "execution_count": 19,
   "metadata": {},
   "outputs": [
    {
     "name": "stdout",
     "output_type": "stream",
     "text": [
      "ingrese el primer numero1\n",
      "ingrese el segundo numero2\n",
      "ingrese el tercer numero3\n",
      "el tercer numero es el mayor\n",
      "3\n"
     ]
    }
   ],
   "source": [
    "num1=int(input(\"ingrese el primer numero\"))\n",
    "num2=int(input(\"ingrese el segundo numero\"))\n",
    "num3=int(input(\"ingrese el tercer numero\"))\n",
    "if num1>num2:\n",
    "    if num1>num3:\n",
    "        print(\"el primer numero es el mayor\")\n",
    "        print(num1)\n",
    "    else:\n",
    "        print(\"el segundo numero es el mayor\")\n",
    "        print(num3)\n",
    "else:\n",
    "    if num2>num3:\n",
    "        print(\"el segundo numero es el mayor\")\n",
    "        print(num2)\n",
    "    else:\n",
    "        print(\"el tercer numero es el mayor\")\n",
    "        print(num3)\n",
    "    "
   ]
  }
 ],
 "metadata": {
  "kernelspec": {
   "display_name": "Python 3",
   "language": "python",
   "name": "python3"
  },
  "language_info": {
   "codemirror_mode": {
    "name": "ipython",
    "version": 3
   },
   "file_extension": ".py",
   "mimetype": "text/x-python",
   "name": "python",
   "nbconvert_exporter": "python",
   "pygments_lexer": "ipython3",
   "version": "3.7.4"
  }
 },
 "nbformat": 4,
 "nbformat_minor": 2
}
