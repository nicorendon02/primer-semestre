{
 "cells": [
  {
   "cell_type": "markdown",
   "metadata": {},
   "source": [
    "### SUMA Y PRODUCTO DE CUATRO NUMEROS"
   ]
  },
  {
   "cell_type": "code",
   "execution_count": 1,
   "metadata": {},
   "outputs": [
    {
     "name": "stdout",
     "output_type": "stream",
     "text": [
      "ingrese el primer numero2\n",
      "ingrese el segundo numero2\n",
      "ingrese el tercer numero5\n",
      "ingrese el cuarto numero5\n",
      "la suma de los dos primeros numeros es\n",
      "4\n",
      "el producto del tercer y cuarto numero es\n",
      "25\n"
     ]
    }
   ],
   "source": [
    "num1=int(input(\"ingrese el primer numero\"))\n",
    "num2=int(input(\"ingrese el segundo numero\"))\n",
    "num3=int(input(\"ingrese el tercer numero\"))\n",
    "num4=int(input(\"ingrese el cuarto numero\"))\n",
    "suma=num1+num2\n",
    "producto=num3*num4\n",
    "print(\"la suma de los dos primeros numeros es\")\n",
    "print(suma)\n",
    "print(\"el producto del tercer y cuarto numero es\")\n",
    "print(producto)"
   ]
  }
 ],
 "metadata": {
  "kernelspec": {
   "display_name": "Python 3",
   "language": "python",
   "name": "python3"
  },
  "language_info": {
   "codemirror_mode": {
    "name": "ipython",
    "version": 3
   },
   "file_extension": ".py",
   "mimetype": "text/x-python",
   "name": "python",
   "nbconvert_exporter": "python",
   "pygments_lexer": "ipython3",
   "version": "3.7.4"
  }
 },
 "nbformat": 4,
 "nbformat_minor": 2
}
