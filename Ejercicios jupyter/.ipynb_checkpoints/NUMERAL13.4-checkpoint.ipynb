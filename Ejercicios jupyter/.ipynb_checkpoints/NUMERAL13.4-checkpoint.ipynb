{
 "cells": [
  {
   "cell_type": "markdown",
   "metadata": {},
   "source": [
    "### ATAJOS"
   ]
  },
  {
   "cell_type": "code",
   "execution_count": null,
   "metadata": {},
   "outputs": [],
   "source": [
    "nombre1=\"mAriA\"\n",
    "print(nombre1)\n",
    "nombre2=nombre1.upper()\n",
    "print(nombre2)\n",
    "nombre3=nombre1.lower()\n",
    "print(nombre3)\n",
    "nombre4=nombre1.capitalize()\n",
    "print(nombre4)"
   ]
  }
 ],
 "metadata": {
  "kernelspec": {
   "display_name": "Python 3",
   "language": "python",
   "name": "python3"
  },
  "language_info": {
   "codemirror_mode": {
    "name": "ipython",
    "version": 3
   },
   "file_extension": ".py",
   "mimetype": "text/x-python",
   "name": "python",
   "nbconvert_exporter": "python",
   "pygments_lexer": "ipython3",
   "version": "3.7.4"
  }
 },
 "nbformat": 4,
 "nbformat_minor": 2
}
