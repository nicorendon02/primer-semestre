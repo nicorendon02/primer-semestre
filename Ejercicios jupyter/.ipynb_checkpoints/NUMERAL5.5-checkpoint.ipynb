{
 "cells": [
  {
   "cell_type": "markdown",
   "metadata": {},
   "source": [
    "### SUMA Y PROMEDIO DE CUATRO NUMEROS"
   ]
  },
  {
   "cell_type": "code",
   "execution_count": 1,
   "metadata": {},
   "outputs": [
    {
     "name": "stdout",
     "output_type": "stream",
     "text": [
      "ingrese el primer numero1\n",
      "ingrese el segundo numero2\n",
      "ingrese el tercer numero3\n",
      "ingrese el cuarto numero4\n",
      "la suma de los numeros es\n",
      "10\n",
      "el promedio es\n",
      "2.5\n"
     ]
    }
   ],
   "source": [
    "num1=int(input(\"ingrese el primer numero\"))\n",
    "num2=int(input(\"ingrese el segundo numero\"))\n",
    "num3=int(input(\"ingrese el tercer numero\"))\n",
    "num4=int(input(\"ingrese el cuarto numero\"))\n",
    "suma=num1+num2+num3+num4\n",
    "prom=(num1+num2+num3+num4)/4\n",
    "print(\"la suma de los numeros es\")\n",
    "print(suma)\n",
    "print(\"el promedio es\")\n",
    "print(prom)"
   ]
  }
 ],
 "metadata": {
  "kernelspec": {
   "display_name": "Python 3",
   "language": "python",
   "name": "python3"
  },
  "language_info": {
   "codemirror_mode": {
    "name": "ipython",
    "version": 3
   },
   "file_extension": ".py",
   "mimetype": "text/x-python",
   "name": "python",
   "nbconvert_exporter": "python",
   "pygments_lexer": "ipython3",
   "version": "3.7.4"
  }
 },
 "nbformat": 4,
 "nbformat_minor": 2
}
