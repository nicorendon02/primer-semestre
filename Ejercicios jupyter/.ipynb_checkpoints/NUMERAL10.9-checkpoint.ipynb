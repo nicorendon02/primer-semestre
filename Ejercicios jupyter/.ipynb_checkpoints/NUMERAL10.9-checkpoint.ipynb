{
 "cells": [
  {
   "cell_type": "markdown",
   "metadata": {},
   "source": [
    "### SUMA DE ULTIMOS CINCO NUMEROS"
   ]
  },
  {
   "cell_type": "code",
   "execution_count": 5,
   "metadata": {},
   "outputs": [
    {
     "name": "stdout",
     "output_type": "stream",
     "text": [
      "ingrese el numero1\n",
      "ingrese el numero2\n",
      "ingrese el numero3\n",
      "ingrese el numero4\n",
      "ingrese el numero5\n",
      "ingrese el numero6\n",
      "ingrese el numero7\n",
      "ingrese el numero8\n",
      "ingrese el numero9\n",
      "ingrese el numero10\n",
      "la suma de los ultimos cinco numeros es\n",
      "11\n"
     ]
    }
   ],
   "source": [
    "suma=0\n",
    "for f in range(10):\n",
    "    valor=int(input(\"Ingrese un valor:\"))\n",
    "    if f>4:\n",
    "        suma=suma+valor\n",
    "print(\"La suma de los últimos 5 valores es\")\n",
    "print(suma)"
   ]
  }
 ],
 "metadata": {
  "kernelspec": {
   "display_name": "Python 3",
   "language": "python",
   "name": "python3"
  },
  "language_info": {
   "codemirror_mode": {
    "name": "ipython",
    "version": 3
   },
   "file_extension": ".py",
   "mimetype": "text/x-python",
   "name": "python",
   "nbconvert_exporter": "python",
   "pygments_lexer": "ipython3",
   "version": "3.7.4"
  }
 },
 "nbformat": 4,
 "nbformat_minor": 2
}
