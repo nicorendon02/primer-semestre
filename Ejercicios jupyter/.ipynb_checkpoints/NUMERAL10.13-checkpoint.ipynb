{
 "cells": [
  {
   "cell_type": "markdown",
   "metadata": {},
   "source": [
    "### CUADRANTES"
   ]
  },
  {
   "cell_type": "code",
   "execution_count": null,
   "metadata": {},
   "outputs": [],
   "source": [
    "cant1=0\n",
    "cant2=0\n",
    "cant3=0\n",
    "cant4=0\n",
    "n=int(input(\"Cantidad de puntos:\"))\n",
    "for f in range(n):\n",
    "    x=int(input(\"Ingrese coordenada x:\"))\n",
    "    y=int(input(\"Ingrese coordenada y:\"))\n",
    "    if x>0 and y>0:\n",
    "        cant1=cant1+1\n",
    "    else:\n",
    "        if x<0 and y>0:\n",
    "            cant2=cant2+1\n",
    "        else:\n",
    "            if x<0 and y<0:\n",
    "                cant3=cant3+1\n",
    "            else:\n",
    "                if x>0 and y<0:\n",
    "                    cant4=cant4+1\n",
    "\n",
    "print(\"Cantidad de puntos en el primer cuadrante:\")\n",
    "print(cant1)\n",
    "print(\"Cantidad de puntos en el segundo cuadrante:\")\n",
    "print(cant2)\n",
    "print(\"Cantidad de puntos en el tercer cuadrante:\")\n",
    "print(cant3)\n",
    "print(\"Cantidad de puntos en el cuarto cuadrante:\")\n",
    "print(cant4)\n"
   ]
  }
 ],
 "metadata": {
  "kernelspec": {
   "display_name": "Python 3",
   "language": "python",
   "name": "python3"
  },
  "language_info": {
   "codemirror_mode": {
    "name": "ipython",
    "version": 3
   },
   "file_extension": ".py",
   "mimetype": "text/x-python",
   "name": "python",
   "nbconvert_exporter": "python",
   "pygments_lexer": "ipython3",
   "version": "3.7.4"
  }
 },
 "nbformat": 4,
 "nbformat_minor": 2
}
