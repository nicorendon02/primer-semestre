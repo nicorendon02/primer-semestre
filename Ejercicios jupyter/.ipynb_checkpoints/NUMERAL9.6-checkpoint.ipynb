{
 "cells": [
  {
   "cell_type": "markdown",
   "metadata": {},
   "source": [
    "### ALTURAS"
   ]
  },
  {
   "cell_type": "code",
   "execution_count": null,
   "metadata": {},
   "outputs": [],
   "source": [
    "n=int(input(\"Cuantas personas hay:\"))\n",
    "x=1\n",
    "suma=0\n",
    "while x<=n:\n",
    "    altura=float(input(\"Ingrese la altura:\"))\n",
    "    suma=suma+altura\n",
    "    x=x+1\n",
    "promedio=suma/n\n",
    "print(\"Altura promedio\")\n",
    "print(promedio)"
   ]
  }
 ],
 "metadata": {
  "kernelspec": {
   "display_name": "Python 3",
   "language": "python",
   "name": "python3"
  },
  "language_info": {
   "codemirror_mode": {
    "name": "ipython",
    "version": 3
   },
   "file_extension": ".py",
   "mimetype": "text/x-python",
   "name": "python",
   "nbconvert_exporter": "python",
   "pygments_lexer": "ipython3",
   "version": "3.7.4"
  }
 },
 "nbformat": 4,
 "nbformat_minor": 2
}
