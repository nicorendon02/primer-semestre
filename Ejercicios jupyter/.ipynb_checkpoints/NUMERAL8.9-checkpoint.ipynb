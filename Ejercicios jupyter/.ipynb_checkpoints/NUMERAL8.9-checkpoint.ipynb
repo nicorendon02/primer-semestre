{
 "cells": [
  {
   "cell_type": "markdown",
   "metadata": {},
   "source": [
    "### RANGO DE VALORES"
   ]
  },
  {
   "cell_type": "code",
   "execution_count": 1,
   "metadata": {},
   "outputs": [
    {
     "name": "stdout",
     "output_type": "stream",
     "text": [
      "Ingrese primer valor:1\n",
      "Ingrese tercer valor:2\n",
      "Rango de valores:3\n",
      "1\n",
      "3\n"
     ]
    }
   ],
   "source": [
    "num1=int(input(\"Ingrese primer valor:\"))\n",
    "num2=int(input(\"Ingrese tercer valor:\"))\n",
    "num3=int(input(\"Rango de valores:\"))\n",
    "if num1<num2 and num1<num3:\n",
    "    print(num1)\n",
    "else:\n",
    "    if num2<num3:\n",
    "        print(num2)\n",
    "    else:\n",
    "        print(num3)\n",
    "if num1>num2 and num1>num3:\n",
    "    print(num1)\n",
    "else:\n",
    "    if num2>num3:\n",
    "        print(num2)\n",
    "    else:\n",
    "        print(num3)"
   ]
  }
 ],
 "metadata": {
  "kernelspec": {
   "display_name": "Python 3",
   "language": "python",
   "name": "python3"
  },
  "language_info": {
   "codemirror_mode": {
    "name": "ipython",
    "version": 3
   },
   "file_extension": ".py",
   "mimetype": "text/x-python",
   "name": "python",
   "nbconvert_exporter": "python",
   "pygments_lexer": "ipython3",
   "version": "3.7.4"
  }
 },
 "nbformat": 4,
 "nbformat_minor": 2
}
