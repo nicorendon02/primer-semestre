{
 "cells": [
  {
   "cell_type": "markdown",
   "metadata": {},
   "source": [
    "### NUMEROS IGUALES"
   ]
  },
  {
   "cell_type": "code",
   "execution_count": 3,
   "metadata": {},
   "outputs": [
    {
     "name": "stdout",
     "output_type": "stream",
     "text": [
      "Ingrese primer valor:5\n",
      "Ingrese segundo valor:2\n",
      "Ingrese tercer valor:3\n",
      "los tres numeros no son iguales\n"
     ]
    }
   ],
   "source": [
    "num1=int(input(\"Ingrese primer valor:\"))\n",
    "num2=int(input(\"Ingrese segundo valor:\"))\n",
    "num3=int(input(\"Ingrese tercer valor:\"))\n",
    "if num1==num2 and num1==num3:\n",
    "    suma=num1+num2\n",
    "    print(\"La suma del primero y segundo:\")\n",
    "    print(suma)\n",
    "    producto=suma*num3;\n",
    "    print(\"La suma del primero y segundo multiplicado por el tercero:\")\n",
    "    print(producto)\n",
    "else:\n",
    "    print(\"los tres numeros no son iguales\")"
   ]
  }
 ],
 "metadata": {
  "kernelspec": {
   "display_name": "Python 3",
   "language": "python",
   "name": "python3"
  },
  "language_info": {
   "codemirror_mode": {
    "name": "ipython",
    "version": 3
   },
   "file_extension": ".py",
   "mimetype": "text/x-python",
   "name": "python",
   "nbconvert_exporter": "python",
   "pygments_lexer": "ipython3",
   "version": "3.7.4"
  }
 },
 "nbformat": 4,
 "nbformat_minor": 2
}
